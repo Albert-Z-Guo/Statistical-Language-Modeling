{
 "cells": [
  {
   "cell_type": "code",
   "execution_count": 1,
   "metadata": {},
   "outputs": [
    {
     "name": "stderr",
     "output_type": "stream",
     "text": [
      "[nltk_data] Downloading package punkt to /Users/guo/nltk_data...\n",
      "[nltk_data]   Package punkt is already up-to-date!\n",
      "[nltk_data] Downloading package brown to /Users/guo/nltk_data...\n",
      "[nltk_data]   Package brown is already up-to-date!\n"
     ]
    }
   ],
   "source": [
    "import os\n",
    "import re\n",
    "import sys\n",
    "import time\n",
    "import pickle\n",
    "import collections\n",
    "\n",
    "import nltk\n",
    "from nltk.tokenize import sent_tokenize\n",
    "nltk.download('punkt')\n",
    "nltk.download('brown') # reference: http://www.nltk.org/nltk_data/\n",
    "import numpy as np\n",
    "import tensorflow as tf\n",
    "from tqdm import tqdm\n",
    "from tqdm import tqdm_notebook"
   ]
  },
  {
   "cell_type": "code",
   "execution_count": 2,
   "metadata": {},
   "outputs": [],
   "source": [
    "def _contains_letter(string):\n",
    "    if re.search(re.compile(r'\\w'), string): # if string contains an alphanumeric character\n",
    "        return True\n",
    "    return False\n",
    "\n",
    "def cleanse(sents):\n",
    "    sents_cleansed = []\n",
    "    for sent in sents:\n",
    "        sent_cleansed = [word for word in sent.split() if _contains_letter(word)] # filter out punctuations\n",
    "        if len(sent_cleansed) > 0: # filter out empty lists\n",
    "#             sent_cleansed[0] = sent_cleansed[0].lower() # lower the first letter in a sentence\n",
    "            sents_cleansed.append(sent_cleansed)\n",
    "    \n",
    "    words_cleansed = []\n",
    "    for sent in sents_cleansed:\n",
    "        for word in sent:\n",
    "            words_cleansed.append(word)\n",
    "    return words_cleansed, sents_cleansed"
   ]
  },
  {
   "cell_type": "code",
   "execution_count": 3,
   "metadata": {},
   "outputs": [],
   "source": [
    "def map_words_sents(words, sents):\n",
    "    # select vocabulary, all punctuations included\n",
    "    vocab = {}\n",
    "    vocab['UNK'] = 0\n",
    "    word_count_sorted = sorted(collections.Counter(words).items(), key=lambda item: item[1])\n",
    "    for item in word_count_sorted:\n",
    "        if item[1] > 3: # if word frequency < 3\n",
    "            vocab[item[0]] = len(vocab)\n",
    "        else:\n",
    "            vocab['UNK'] += 1\n",
    "    vocab_reversed = dict(zip(vocab.values(), vocab.keys()))\n",
    "    \n",
    "    # map word to index number\n",
    "    sents_mapped = []\n",
    "    for sent in sents:\n",
    "        sents_mapped.append([vocab.get(word, 0) for word in sent])\n",
    "    return np.array(sents_mapped), vocab, vocab_reversed\n",
    "\n",
    "\n",
    "n = 5 # order of the model\n",
    "def generate_data(sents_mapped, n):\n",
    "    data = [] # sets of n-word sequence\n",
    "    labels = [] # sets of 1-word prediction\n",
    "    \n",
    "    for sent in sents_mapped:\n",
    "        beginning_index = 0\n",
    "        end_index = n - 1\n",
    "        sent_len = len(sent)\n",
    "        \n",
    "        # skip too short sentence\n",
    "        if sent_len < n:\n",
    "            continue\n",
    "            \n",
    "        while end_index < sent_len:\n",
    "            feed = sent[beginning_index:end_index]\n",
    "            target = sent[end_index]\n",
    "            data.append(feed)\n",
    "            labels.append(target)\n",
    "            end_index += 1\n",
    "            beginning_index += 1\n",
    "            \n",
    "    return np.array(data), np.array(labels)"
   ]
  },
  {
   "cell_type": "code",
   "execution_count": 47,
   "metadata": {},
   "outputs": [
    {
     "name": "stdout",
     "output_type": "stream",
     "text": [
      "sentence num: 51328\n",
      "words num: 1014139\n",
      "vocab size: 21352\n",
      "\n",
      "generated data in 1.529 s\n",
      "\n",
      "data len: 812369\n",
      "label len: 812369\n",
      "data size: 24.8 MB\n",
      "labels size: 6.2 MB\n"
     ]
    }
   ],
   "source": [
    "'''try reading saved data, if no data found, generate data'''\n",
    "try:\n",
    "    with open('data.pickle', 'rb') as file:\n",
    "        data = pickle.load(file)\n",
    "    \n",
    "    with open('labels.pickle', 'rb') as file:\n",
    "        labels = pickle.load(file)\n",
    "        \n",
    "    with open('vocab.pickle', 'rb') as file:\n",
    "        vocab = pickle.load(file)\n",
    "except:\n",
    "    # download corpus\n",
    "    # sents = nltk.corpus.brown.sents()\n",
    "\n",
    "    corpora = ''\n",
    "    with open('corpora/brown.txt', 'r') as file:\n",
    "        for row in file:\n",
    "            if row == '\\n':\n",
    "                corpora += ' '\n",
    "            else:\n",
    "                corpora += row.replace('\\n', '')\n",
    "\n",
    "    sents = sent_tokenize(corpora)\n",
    "    words_cleansed, sents_cleansed = cleanse(sents)\n",
    "    sents_mapped, vocab, vocab_reversed = map_words_sents(words_cleansed, sents_cleansed)\n",
    "\n",
    "    print('sentence num:', len(sents_cleansed))\n",
    "    print('words num:', len(words_cleansed))\n",
    "    print('vocab size:', len(vocab))\n",
    "\n",
    "    # reduce memory\n",
    "    del sents\n",
    "\n",
    "    start_time = time.time()\n",
    "    data, labels = generate_data(sents_mapped, n)\n",
    "    print('\\ngenerated data in {:.4} s'.format(time.time()-start_time))\n",
    "\n",
    "    print('\\ndata len:', len(data))\n",
    "    print('label len:', len(labels))\n",
    "\n",
    "    # check variable sizes\n",
    "    print('data size: {:.3} MB'.format(sys.getsizeof(data) / 1024**2))\n",
    "    print('labels size: {:.3} MB'.format(sys.getsizeof(labels) / 1024**2))\n",
    "\n",
    "    # save generated data\n",
    "    with open('data.pickle', 'wb') as file:\n",
    "        pickle.dump(data, file, protocol=pickle.HIGHEST_PROTOCOL)\n",
    "\n",
    "    with open('labels.pickle', 'wb') as file:\n",
    "        pickle.dump(labels, file, protocol=pickle.HIGHEST_PROTOCOL)\n",
    "        \n",
    "    with open('vocab.pickle', 'wb') as file:\n",
    "        pickle.dump(vocab, file, protocol=pickle.HIGHEST_PROTOCOL)\n",
    "\n",
    "    # reduce memory\n",
    "    del sents_mapped"
   ]
  },
  {
   "cell_type": "code",
   "execution_count": 5,
   "metadata": {},
   "outputs": [],
   "source": [
    "# corpora = ''\n",
    "# with open('corpora/brown.txt', 'r') as file:\n",
    "#     for row in file:\n",
    "#         if row == '\\n':\n",
    "#             corpora += ' '\n",
    "#         else:\n",
    "#             corpora += row.replace('\\n', '')\n",
    "\n",
    "# sents = sent_tokenize(corpora)\n",
    "# words_cleansed, sents_cleansed = cleanse(sents)"
   ]
  },
  {
   "cell_type": "code",
   "execution_count": 6,
   "metadata": {},
   "outputs": [],
   "source": [
    "# sents_cleansed"
   ]
  },
  {
   "cell_type": "code",
   "execution_count": 7,
   "metadata": {},
   "outputs": [],
   "source": [
    "batch_size = 128"
   ]
  },
  {
   "cell_type": "code",
   "execution_count": 50,
   "metadata": {},
   "outputs": [],
   "source": [
    "def generator(data, labels, vocab_size, mode=1):\n",
    "    # mode = 1 for training, 2 for validation, 3 for testing\n",
    "    if mode == 1:\n",
    "        i = 0\n",
    "        end = int(len(data)*0.8)\n",
    "    elif model == 2:\n",
    "        i = int(len(data)*0.8)\n",
    "        end = i + int(len(data)*0.1)\n",
    "    else:\n",
    "        i = int(len(data)*0.9)\n",
    "        end = len(data) - 1\n",
    "            \n",
    "    while True:\n",
    "        data_batch = []\n",
    "        labels_batch = []\n",
    "        \n",
    "        for _ in range(batch_size):\n",
    "            label_one_hot_encoded = np.zeros((vocab_size))\n",
    "            label_one_hot_encoded[labels[i]] = 1\n",
    "            \n",
    "            data_batch.append(data[i])\n",
    "            labels_batch.append(label_one_hot_encoded)\n",
    "            if i == end: \n",
    "                i = 0\n",
    "            else:\n",
    "                i += 1\n",
    "            \n",
    "        yield np.array(data_batch), np.array(labels_batch)"
   ]
  },
  {
   "cell_type": "code",
   "execution_count": 51,
   "metadata": {},
   "outputs": [],
   "source": [
    "training_data = generator(data, labels, len(vocab), mode=1)\n",
    "validation_data = generator(data, labels, len(vocab), mode=2)\n",
    "test_data = generator(data, labels, len(vocab), mode=3)"
   ]
  },
  {
   "cell_type": "code",
   "execution_count": 52,
   "metadata": {},
   "outputs": [],
   "source": [
    "training_batches = int(len(data)*0.8) // batch_size + 1\n",
    "validation_batches = int(len(data)*0.1) // batch_size + 1\n",
    "test_batches = int(len(data)*0.1) // batch_size + 1"
   ]
  },
  {
   "cell_type": "code",
   "execution_count": 53,
   "metadata": {},
   "outputs": [
    {
     "name": "stdout",
     "output_type": "stream",
     "text": [
      "(128, 4)\n",
      "(128, 21352)\n"
     ]
    }
   ],
   "source": [
    "print(next(training_data)[0].shape)\n",
    "print(next(training_data)[1].shape)"
   ]
  },
  {
   "cell_type": "code",
   "execution_count": 55,
   "metadata": {},
   "outputs": [
    {
     "name": "stdout",
     "output_type": "stream",
     "text": [
      "649895\n",
      "81236\n",
      "81236\n"
     ]
    }
   ],
   "source": [
    "print(training_batches)\n",
    "print(validation_batches)\n",
    "print(test_batches)"
   ]
  },
  {
   "cell_type": "code",
   "execution_count": 13,
   "metadata": {},
   "outputs": [],
   "source": [
    "class MLP3:\n",
    "    '''\n",
    "    # the following graph contains MLP 3 with h = 0 only\n",
    "    # MLP 3 model: y = b3 + Wx + M3(b2 + M1tanh(b1 + Wx))\n",
    "    '''\n",
    "    def __init__(self, V=len(vocab), batch_size=batch_size, weight_decay=10**(-4)):\n",
    "        m = 60\n",
    "        \n",
    "        self.name = 'MLP3'\n",
    "        self.V = V\n",
    "        self.h = 0\n",
    "        self.m = m\n",
    "        \n",
    "        self.graph = tf.Graph()\n",
    "        \n",
    "        with self.graph.as_default():\n",
    "            with tf.name_scope('inputs'):\n",
    "                self.words = tf.placeholder(tf.int32, shape=[batch_size, n-1])\n",
    "                self.y = tf.placeholder(tf.int32, shape=[batch_size, V])\n",
    "                self.epsilon_t = tf.placeholder(tf.float64, shape=None)\n",
    "\n",
    "            with tf.name_scope('parameters'):\n",
    "                C = tf.Variable(tf.random_uniform([V, m], -1.0, 1.0))\n",
    "                x = tf.transpose(tf.reshape(tf.nn.embedding_lookup(C, self.words), [-1, (n-1)*m])) # [(n-1)*m, batch_size]\n",
    "                W = tf.Variable(tf.truncated_normal([V, (n-1)*m], stddev=1.0/np.sqrt((n-1)*m)))\n",
    "                M1 = tf.Variable(tf.truncated_normal([(n-1)*m, (n-1)*m], stddev=1.0/np.sqrt(V)))\n",
    "                M2 = tf.Variable(tf.truncated_normal([(n-1)*m, (n-1)*m], stddev=1.0/np.sqrt(V)))\n",
    "                M3 = tf.Variable(tf.truncated_normal([V, (n-1)*m], stddev=1.0/np.sqrt(V)))\n",
    "                b1 = tf.Variable(tf.zeros([(n-1)*m, batch_size]))\n",
    "                b2 = tf.Variable(tf.zeros([(n-1)*m, batch_size]))\n",
    "                b3 = tf.Variable(tf.zeros([V, batch_size]))\n",
    "\n",
    "            with tf.name_scope('direct_connections'):\n",
    "                Wx = tf.matmul(W, x)\n",
    "\n",
    "            with tf.name_scope('MLPs'):\n",
    "                MLP1 = b1 + tf.matmul(M1, x)\n",
    "                MLP2 = b2 + tf.matmul(M2, tf.tanh(MLP1))\n",
    "                MLP3 = tf.matmul(M3, MLP2)\n",
    "\n",
    "            with tf.name_scope('MLP_logits'):\n",
    "                MLP3_logits = b3 + Wx + MLP3\n",
    "\n",
    "            MLP3_prob = tf.nn.softmax(logits=MLP3_logits, axis=0)\n",
    "\n",
    "            with tf.name_scope('MLP_losses'):\n",
    "                MLP3_loss = tf.reduce_mean(tf.nn.softmax_cross_entropy_with_logits_v2(labels=self.y, logits=tf.transpose(MLP3_logits)))\n",
    "\n",
    "            tf.summary.scalar('MLP3_loss', MLP3_loss)\n",
    "\n",
    "            with tf.name_scope('optimizers'):\n",
    "                Custom_Optimizer = tf.contrib.opt.extend_with_decoupled_weight_decay(tf.train.AdamOptimizer)\n",
    "                MLP3_optimizer = Custom_Optimizer(weight_decay=weight_decay, learning_rate=self.epsilon_t).minimize(MLP3_loss)\n",
    "\n",
    "            # merge all summaries\n",
    "            summary_merged = tf.summary.merge_all()\n",
    "            \n",
    "        self.fetches = [MLP3_optimizer, MLP3_loss, MLP3_prob, summary_merged]"
   ]
  },
  {
   "cell_type": "code",
   "execution_count": 14,
   "metadata": {},
   "outputs": [],
   "source": [
    "class Model:\n",
    "    '''\n",
    "    the following graph contains MLP 1, MLP 5, MLP 7, and MLP 9 loss optimizations\n",
    "    e.g. MLP 1 model: y = b + Wx + Utanh(d + Hx) where MLP 1 is d + Hx\n",
    "    '''\n",
    "    def __init__(self, name, V=len(vocab), batch_size=batch_size, weight_decay=10**(-4)):\n",
    "        if name == 'MLP1':\n",
    "            h = 50\n",
    "            m = 60\n",
    "        elif name == 'MLP5' or name == 'MLP7':\n",
    "            h = 50\n",
    "            m = 30\n",
    "        elif name == 'MLP9':\n",
    "            h = 100\n",
    "            m = 30\n",
    "        \n",
    "        self.name = name\n",
    "        self.V = V\n",
    "        self.h = h\n",
    "        self.m = m\n",
    "        \n",
    "        self.graph = tf.Graph()\n",
    "        with self.graph.as_default():\n",
    "            with tf.name_scope('inputs'):\n",
    "                self.words = tf.placeholder(tf.int32, shape=[batch_size, n-1])\n",
    "                self.y = tf.placeholder(tf.int32, shape=[batch_size, V])\n",
    "                self.epsilon_t = tf.placeholder(tf.float64, shape=None)\n",
    "\n",
    "            with tf.name_scope('parameters'):\n",
    "                C = tf.Variable(tf.random_uniform([V, m], -1.0, 1.0))\n",
    "                x = tf.transpose(tf.reshape(tf.nn.embedding_lookup(C, self.words), [-1, (n-1)*m])) # [(n-1)*m, batch_size]\n",
    "                H = tf.Variable(tf.truncated_normal([h, (n-1)*m], stddev=1.0/np.sqrt((n-1)*m)))\n",
    "                U = tf.Variable(tf.truncated_normal([V, h], stddev=1.0/np.sqrt(h)))\n",
    "                W = tf.Variable(tf.truncated_normal([V, (n-1)*m], stddev=1.0/np.sqrt((n-1)*m)))\n",
    "\n",
    "                b = tf.Variable(tf.zeros([V, batch_size]))\n",
    "                d = tf.Variable(tf.zeros([h, batch_size]))\n",
    "                d2 = tf.Variable(tf.zeros([h, batch_size]))\n",
    "                d3 = tf.Variable(tf.zeros([h, batch_size]))\n",
    "                d4 = tf.Variable(tf.zeros([h, batch_size]))\n",
    "                d5 = tf.Variable(tf.zeros([h, batch_size]))\n",
    "                d6 = tf.Variable(tf.zeros([h, batch_size]))\n",
    "                d7 = tf.Variable(tf.zeros([h, batch_size]))\n",
    "                d8 = tf.Variable(tf.zeros([h, batch_size]))\n",
    "                hid2 = tf.Variable(tf.truncated_normal([h, h], stddev=1.0/np.sqrt(h)))\n",
    "                hid3 = tf.Variable(tf.truncated_normal([h, h], stddev=1.0/np.sqrt(h)))\n",
    "                hid4 = tf.Variable(tf.truncated_normal([h, h], stddev=1.0/np.sqrt(h)))\n",
    "                hid5 = tf.Variable(tf.truncated_normal([h, h], stddev=1.0/np.sqrt(h)))\n",
    "                hid6 = tf.Variable(tf.truncated_normal([h, h], stddev=1.0/np.sqrt(h)))\n",
    "                hid7 = tf.Variable(tf.truncated_normal([h, h], stddev=1.0/np.sqrt(h)))\n",
    "                hid8 = tf.Variable(tf.truncated_normal([h, h], stddev=1.0/np.sqrt(h)))\n",
    "\n",
    "            with tf.name_scope('direct_connections'):\n",
    "                Wx = tf.matmul(W, x)\n",
    "\n",
    "            with tf.name_scope('MLPs'):\n",
    "                MLP1 = d + tf.matmul(H, x)\n",
    "                MLP2 = d2 + tf.matmul(hid2, tf.tanh(MLP1))\n",
    "                MLP3 = d3 + tf.matmul(hid3, tf.tanh(MLP2))\n",
    "                MLP4 = d4 + tf.matmul(hid4, tf.tanh(MLP3))\n",
    "                MLP5 = d5 + tf.matmul(hid5, tf.tanh(MLP4))\n",
    "                MLP6 = d6 + tf.matmul(hid6, tf.tanh(MLP5))\n",
    "                MLP7 = d7 + tf.matmul(hid7, tf.tanh(MLP6))\n",
    "                MLP8 = d8 + tf.matmul(hid8, tf.tanh(MLP7))\n",
    "\n",
    "            with tf.name_scope('MLP_logits'):\n",
    "                MLP1_logits = b + Wx + tf.matmul(U, tf.tanh(MLP1))\n",
    "                MLP5_logits = b + Wx + tf.matmul(U, tf.tanh(MLP5))\n",
    "                MLP7_logits = b + Wx + tf.matmul(U, tf.tanh(MLP7))\n",
    "                MLP9_logits = b + tf.matmul(U, tf.tanh(MLP8)) # no direct connections\n",
    "\n",
    "            MLP1_prob = tf.nn.softmax(logits=MLP1_logits, axis=0)\n",
    "            MLP5_prob = tf.nn.softmax(logits=MLP5_logits, axis=0)\n",
    "            MLP7_prob = tf.nn.softmax(logits=MLP7_logits, axis=0)\n",
    "            MLP9_prob = tf.nn.softmax(logits=MLP9_logits, axis=0)\n",
    "\n",
    "            with tf.name_scope('MLP_losses'):\n",
    "                MLP1_loss = tf.reduce_mean(tf.nn.softmax_cross_entropy_with_logits_v2(labels=self.y, logits=tf.transpose(MLP1_logits)))\n",
    "                MLP5_loss = tf.reduce_mean(tf.nn.softmax_cross_entropy_with_logits_v2(labels=self.y, logits=tf.transpose(MLP5_logits)))\n",
    "                MLP7_loss = tf.reduce_mean(tf.nn.softmax_cross_entropy_with_logits_v2(labels=self.y, logits=tf.transpose(MLP7_logits)))\n",
    "                MLP9_loss = tf.reduce_mean(tf.nn.softmax_cross_entropy_with_logits_v2(labels=self.y, logits=tf.transpose(MLP9_logits)))\n",
    "\n",
    "            tf.summary.scalar('MLP1_loss', MLP1_loss)\n",
    "            tf.summary.scalar('MLP5_loss', MLP5_loss)\n",
    "            tf.summary.scalar('MLP7_loss', MLP7_loss)\n",
    "            tf.summary.scalar('MLP9_loss', MLP9_loss)\n",
    "\n",
    "            with tf.name_scope('optimizers'):\n",
    "                Custom_Optimizer = tf.contrib.opt.extend_with_decoupled_weight_decay(tf.train.AdamOptimizer)\n",
    "                MLP1_optimizer = Custom_Optimizer(weight_decay=weight_decay, learning_rate=self.epsilon_t).minimize(MLP1_loss)\n",
    "                MLP5_optimizer = Custom_Optimizer(weight_decay=weight_decay, learning_rate=self.epsilon_t).minimize(MLP5_loss)\n",
    "                MLP7_optimizer = Custom_Optimizer(weight_decay=weight_decay, learning_rate=self.epsilon_t).minimize(MLP7_loss)\n",
    "                MLP9_optimizer = Custom_Optimizer(weight_decay=weight_decay, learning_rate=self.epsilon_t).minimize(MLP9_loss)\n",
    "            #         optimizer = tf.train.AdamOptimizer(learning_rate=epsilon_t).minimize(loss) # without weight decay\n",
    "\n",
    "            # merge all summaries\n",
    "            summary_merged = tf.summary.merge_all()\n",
    "            \n",
    "        version = name[-1]\n",
    "        self.fetches = [eval('MLP{}_optimizer'.format(version)), \n",
    "                        eval('MLP{}_loss'.format(version)), \n",
    "                        eval('MLP{}_prob'.format(version)), \n",
    "                        summary_merged]"
   ]
  },
  {
   "cell_type": "code",
   "execution_count": 27,
   "metadata": {
    "scrolled": false
   },
   "outputs": [
    {
     "name": "stderr",
     "output_type": "stream",
     "text": [
      "\r",
      "  0%|          | 0/2 [00:00<?, ?it/s]"
     ]
    },
    {
     "name": "stdout",
     "output_type": "stream",
     "text": [
      "epoch: 1\n"
     ]
    },
    {
     "name": "stderr",
     "output_type": "stream",
     "text": [
      "100%|██████████| 2/2 [00:00<00:00,  4.16it/s]\n",
      " 50%|█████     | 1/2 [00:00<00:00,  5.71it/s]"
     ]
    },
    {
     "name": "stdout",
     "output_type": "stream",
     "text": [
      "loss at batch 2 : 10.165121\n",
      "average loss per word so far: 0.0796\n",
      "average perplexity per word so far: 2.66e+04\n",
      "epoch: 2\n"
     ]
    },
    {
     "name": "stderr",
     "output_type": "stream",
     "text": [
      "100%|██████████| 2/2 [00:00<00:00,  5.67it/s]\n"
     ]
    },
    {
     "name": "stdout",
     "output_type": "stream",
     "text": [
      "loss at batch 4 : 9.955153\n",
      "average loss per word so far: 0.0788\n",
      "average perplexity per word so far: 2.41e+04\n"
     ]
    }
   ],
   "source": [
    "num_epochs = 20\n",
    "num_batches = training_batches\n",
    "num_epochs = 2\n",
    "num_batches = 2\n",
    "\n",
    "# select model\n",
    "model = Model(name='MLP1')\n",
    "# model = MLP3()\n",
    "# model = Model(name='MLP5')\n",
    "# model = Model(name='MLP7')\n",
    "# model = Model(name='MLP9')\n",
    "\n",
    "# create TensorBoard directory\n",
    "log_dir = model.name + '_log'\n",
    "if not os.path.exists(log_dir):\n",
    "    os.makedirs(log_dir)\n",
    "\n",
    "with tf.Session(graph=model.graph) as session:\n",
    "    saver = tf.train.Saver()\n",
    "    writer = tf.summary.FileWriter(log_dir, session.graph)\n",
    "\n",
    "    # initialize variables\n",
    "    tf.global_variables_initializer().run()\n",
    "\n",
    "    epsilon_0 = 10**(-3)\n",
    "    r = 10**(-8) # decrease factor\n",
    "    # number of parameters updates (from W, U, H, d, b, and words vectors from C) per training step\n",
    "    t = model.V*(n-1)*model.m + model.V*model.h + model.h*(n-1)*model.m + model.h + model.V + model.m*(n-1)\n",
    "\n",
    "    learning_rate = epsilon_0\n",
    "    batches_total = 0\n",
    "    loss_total = 0\n",
    "    perplexity_exponent = 0\n",
    "    perplexity_exponent_total = 0\n",
    "\n",
    "    for epoch in np.arange(num_epochs):\n",
    "        print('epoch:', epoch + 1)\n",
    "        for batch in tqdm(np.arange(num_batches)):\n",
    "            data_training, label = next(training_data)\n",
    "            feed_dict={model.words:data_training, model.y:label, model.epsilon_t:learning_rate}\n",
    "\n",
    "            # collect runtime statistics\n",
    "            run_metadata = tf.RunMetadata()\n",
    "            _, loss_batch, prob_batch, summary = session.run(model.fetches, feed_dict=feed_dict, run_metadata=run_metadata)\n",
    "\n",
    "            # update learning rate\n",
    "            learning_rate = epsilon_0/(1+r*t)\n",
    "            t += t/10\n",
    "            \n",
    "            batches_total += 1\n",
    "            loss_total += loss_batch\n",
    "            \n",
    "            prob_batch = prob_batch.T # [batch_size, vocab_size]\n",
    "            perplexity_exponent = np.sum(np.log(prob_batch[np.arange(len(prob_batch)), np.argmax(label, axis=1)]))\n",
    "            perplexity_exponent_total += perplexity_exponent\n",
    "            \n",
    "            # record summaries\n",
    "            writer.add_summary(summary, total_batches)\n",
    "            if batch == (num_batches - 1):\n",
    "                writer.add_run_metadata(run_metadata, 'epoch{} batch {}'.format(epoch, batch))\n",
    "\n",
    "            if batch % 1 == 0 and batch > 0:\n",
    "                print('loss at batch', batches_total, ':', loss_batch)\n",
    "                print('average loss per word so far: {:.3}'.format(loss_total/batches_total/batch_size))\n",
    "                print('average perplexity per word so far: {:.3}'.format(np.exp(-perplexity_exponent_total/batches_total/batch_size)))\n",
    "                \n",
    "    # save the model\n",
    "    saver.save(sess=session, save_path=os.path.join(log_dir, '{}.ckpt'.format(model.name)))\n",
    "    writer.close()"
   ]
  },
  {
   "cell_type": "code",
   "execution_count": 41,
   "metadata": {
    "scrolled": false
   },
   "outputs": [
    {
     "name": "stdout",
     "output_type": "stream",
     "text": [
      "INFO:tensorflow:Restoring parameters from MLP1_log/MLP1.ckpt\n"
     ]
    },
    {
     "name": "stderr",
     "output_type": "stream",
     "text": [
      "100%|██████████| 2/2 [00:00<00:00,  9.38it/s]"
     ]
    },
    {
     "name": "stdout",
     "output_type": "stream",
     "text": [
      "loss at batch 2 : 10.068956\n",
      "average loss per word so far: 0.07904038578271866\n",
      "average perplexity per word so far: 14432410634371.898\n"
     ]
    },
    {
     "name": "stderr",
     "output_type": "stream",
     "text": [
      "\n"
     ]
    }
   ],
   "source": [
    "tf.reset_default_graph()\n",
    "\n",
    "with tf.Session(graph=model.graph) as sess:\n",
    "    saver = tf.train.Saver()\n",
    "    saver.restore(sess, os.path.join(log_dir, '{}.ckpt'.format(model.name)))\n",
    "\n",
    "    num_batches = validation_batches\n",
    "    total_batches = 0\n",
    "    parameter_updates = 0\n",
    "    total_loss = 0\n",
    "    perplexity_exponent = 0\n",
    "    \n",
    "    for batch in tqdm(np.arange(num_batches)):\n",
    "        data_training, label = next(validation_data)\n",
    "        feed_dict={model.words:data_training, model.y:label}\n",
    "\n",
    "        loss_batch, prob_batch = sess.run([model.fetches[1], model.fetches[2]], feed_dict=feed_dict)\n",
    "\n",
    "        total_batches += 1\n",
    "        total_loss += loss_batch\n",
    "\n",
    "        prob_batch = prob_batch.T # [batch_size, vocab_size]\n",
    "        perplexity_exponent = np.sum(np.log(prob_batch[np.arange(len(prob_batch)), np.argmax(label, axis=1)]))\n",
    "        perplexity_exponent_total += perplexity_exponent\n",
    "\n",
    "        if batch % 1 == 0 and batch > 0:\n",
    "            print('loss at batch', total_batches, ':', loss_batch)\n",
    "            print('average loss per word so far:', total_loss/total_batches/batch_size)\n",
    "            print('average perplexity per word so far:', np.exp(-perplexity_exponent_total/total_batches/batch_size))"
   ]
  },
  {
   "cell_type": "code",
   "execution_count": null,
   "metadata": {},
   "outputs": [],
   "source": []
  }
 ],
 "metadata": {
  "kernelspec": {
   "display_name": "Python 3",
   "language": "python",
   "name": "python3"
  },
  "language_info": {
   "codemirror_mode": {
    "name": "ipython",
    "version": 3
   },
   "file_extension": ".py",
   "mimetype": "text/x-python",
   "name": "python",
   "nbconvert_exporter": "python",
   "pygments_lexer": "ipython3",
   "version": "3.7.3"
  }
 },
 "nbformat": 4,
 "nbformat_minor": 2
}
