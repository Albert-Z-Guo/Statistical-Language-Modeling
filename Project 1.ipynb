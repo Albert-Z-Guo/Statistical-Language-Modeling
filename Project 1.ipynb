{
 "cells": [
  {
   "cell_type": "code",
   "execution_count": 2,
   "metadata": {},
   "outputs": [],
   "source": [
    "import os\n",
    "import re\n",
    "import sys\n",
    "import time\n",
    "import collections\n",
    "\n",
    "import nltk\n",
    "# nltk.download('brown') # reference: http://www.nltk.org/nltk_data/\n",
    "from nltk.corpus import brown"
   ]
  },
  {
   "cell_type": "code",
   "execution_count": 3,
   "metadata": {},
   "outputs": [],
   "source": [
    "import numpy as np\n",
    "import tensorflow as tf\n",
    "from tqdm import tqdm_notebook"
   ]
  },
  {
   "cell_type": "code",
   "execution_count": 4,
   "metadata": {},
   "outputs": [],
   "source": [
    "words = brown.words()\n",
    "sents = brown.sents()"
   ]
  },
  {
   "cell_type": "code",
   "execution_count": 5,
   "metadata": {},
   "outputs": [
    {
     "name": "stdout",
     "output_type": "stream",
     "text": [
      "1161192\n",
      "57340\n"
     ]
    }
   ],
   "source": [
    "print(len(words))\n",
    "print(len(sents))"
   ]
  },
  {
   "cell_type": "code",
   "execution_count": 6,
   "metadata": {},
   "outputs": [],
   "source": [
    "def _contains_letter(string):\n",
    "    if re.search(re.compile(r'\\w'), string): # if string contains an alphanumeric character\n",
    "        return True\n",
    "    return False\n",
    "\n",
    "def cleanse(words, sents):\n",
    "    sents_cleansed = []\n",
    "    for sent in sents:\n",
    "        sent_cleansed = [word for word in sent if _contains_letter(word)] # filter out punctuations\n",
    "        if len(sent_cleansed) > 0: # filter out empty lists\n",
    "            sent_cleansed[0] = sent_cleansed[0].lower() # lower the first letter in a sentence\n",
    "            sents_cleansed.append(sent_cleansed)\n",
    "    \n",
    "    words_cleansed = []\n",
    "    for sent in sents_cleansed:\n",
    "        for word in sent:\n",
    "            words_cleansed.append(word)\n",
    "    return words_cleansed, sents_cleansed"
   ]
  },
  {
   "cell_type": "code",
   "execution_count": 7,
   "metadata": {},
   "outputs": [],
   "source": [
    "# words_cleansed, sents_cleansed = cleanse(words, sents)\n",
    "\n",
    "# print(len(words_cleansed))\n",
    "# print(len(sents_cleansed))\n",
    "# print(sents_cleansed[0]) # first sentence"
   ]
  },
  {
   "cell_type": "code",
   "execution_count": 8,
   "metadata": {},
   "outputs": [],
   "source": [
    "def map_words_sents(words, sents):\n",
    "    # select vocabulary, all punctuations included\n",
    "    vocab = {}\n",
    "    vocab['UNK'] = 0\n",
    "    word_count_sorted = sorted(collections.Counter(words).items(), key=lambda item: item[1])\n",
    "    for item in word_count_sorted:\n",
    "        if item[1] > 3: # if word frequency < 3\n",
    "            vocab[item[0]] = len(vocab)\n",
    "        else:\n",
    "            vocab['UNK'] += 1\n",
    "    vocab_reversed = dict(zip(vocab.values(), vocab.keys()))\n",
    "    \n",
    "    # map word to index number\n",
    "    sents_mapped = []\n",
    "    for sent in sents:\n",
    "        sents_mapped.append([vocab.get(word, 0) for word in sent])\n",
    "    return np.array(sents_mapped), vocab, vocab_reversed"
   ]
  },
  {
   "cell_type": "code",
   "execution_count": 9,
   "metadata": {},
   "outputs": [],
   "source": [
    "sents_mapped, vocab, vocab_reversed = map_words_sents(words, sents)"
   ]
  },
  {
   "cell_type": "code",
   "execution_count": 10,
   "metadata": {},
   "outputs": [],
   "source": [
    "# reduce memory\n",
    "del words\n",
    "del sents"
   ]
  },
  {
   "cell_type": "code",
   "execution_count": 11,
   "metadata": {},
   "outputs": [
    {
     "name": "stdout",
     "output_type": "stream",
     "text": [
      "57340\n",
      "17905\n"
     ]
    }
   ],
   "source": [
    "print(len(sents_mapped))\n",
    "print(len(vocab))"
   ]
  },
  {
   "cell_type": "code",
   "execution_count": 12,
   "metadata": {},
   "outputs": [
    {
     "name": "stdout",
     "output_type": "stream",
     "text": [
      "0.43756103515625 MB\n",
      "0.5625991821289062 MB\n",
      "0.5625991821289062 MB\n"
     ]
    }
   ],
   "source": [
    "# variabe size in MB\n",
    "print(sys.getsizeof(sents_mapped) / 1024**2, 'MB')\n",
    "print(sys.getsizeof(vocab) / 1024**2, 'MB')\n",
    "print(sys.getsizeof(vocab_reversed) / 1024**2, 'MB')"
   ]
  },
  {
   "cell_type": "code",
   "execution_count": 13,
   "metadata": {},
   "outputs": [],
   "source": [
    "# n = 5 # order of the model\n",
    "\n",
    "# def generate_data(sents_mapped, n, vocab_size):\n",
    "#     data = [] # sets of n-word sequence\n",
    "#     labels = [] # sets of 1-word prediction\n",
    "    \n",
    "#     span = n-1\n",
    "    \n",
    "#     data_index = n\n",
    "#     for sent in sents_mapped:\n",
    "#         sent_len = len(sent)\n",
    "#         # skip too short sentence\n",
    "#         if sent_len < n:\n",
    "#             continue\n",
    "        \n",
    "#         end_index = n-1\n",
    "#         buffer = collections.deque(maxlen=n-1)\n",
    "#         buffer.extend(sent[0:end_index])\n",
    "        \n",
    "#         while end_index < sent_len:\n",
    "#             data.append(list(buffer))\n",
    "#             target = sent[end_index]\n",
    "#             arr = np.zeros((vocab_size)) # one-hot encoding\n",
    "#             arr[target] = 1\n",
    "#             labels.append(arr)\n",
    "#             # shift span\n",
    "#             buffer.append(target)\n",
    "#             end_index += 1\n",
    "            \n",
    "#     return np.array(data), np.array(labels)"
   ]
  },
  {
   "cell_type": "code",
   "execution_count": 14,
   "metadata": {},
   "outputs": [],
   "source": [
    "# start_time = time.time()\n",
    "# data, labels = generate_data(sents_mapped, n, len(vocab))\n",
    "# print('{:.4} s'.format(time.time()-start_time))"
   ]
  },
  {
   "cell_type": "code",
   "execution_count": 15,
   "metadata": {},
   "outputs": [],
   "source": [
    "n = 5 # order of the model\n",
    "\n",
    "def generate_data(sents_mapped, n):\n",
    "    data = [] # sets of n-word sequence\n",
    "    labels = [] # sets of 1-word prediction\n",
    "    \n",
    "    for sent in sents_mapped:\n",
    "        beginning_index = 0\n",
    "        end_index = n - 1\n",
    "        sent_len = len(sent)\n",
    "        if sent_len < n:\n",
    "            continue\n",
    "        while end_index < sent_len:\n",
    "            feed = sent[beginning_index:end_index]\n",
    "            target = sent[end_index]\n",
    "            data.append(feed)\n",
    "            labels.append(target)\n",
    "            end_index += 1\n",
    "            beginning_index += 1\n",
    "            \n",
    "    return np.array(data), np.array(labels)"
   ]
  },
  {
   "cell_type": "code",
   "execution_count": 16,
   "metadata": {},
   "outputs": [],
   "source": [
    "# start_time = time.time()\n",
    "data, labels = generate_data(sents_mapped, n)\n",
    "# print('{:.4} s'.format(time.time()-start_time))\n",
    "\n",
    "del sents_mapped"
   ]
  },
  {
   "cell_type": "code",
   "execution_count": 17,
   "metadata": {},
   "outputs": [
    {
     "name": "stdout",
     "output_type": "stream",
     "text": [
      "28.544540405273438 MB\n",
      "7.136199951171875 MB\n",
      "0.006968945264816284 GB\n"
     ]
    }
   ],
   "source": [
    "# variabe size in MB\n",
    "print(sys.getsizeof(data) / 1024**2, 'MB')\n",
    "print(sys.getsizeof(labels) / 1024**2, 'MB')\n",
    "print(sys.getsizeof(labels) / 1024**3, 'GB')"
   ]
  },
  {
   "cell_type": "code",
   "execution_count": 18,
   "metadata": {},
   "outputs": [],
   "source": [
    "import pickle\n",
    "\n",
    "with open('data.pickle', 'wb') as file:\n",
    "    pickle.dump(data, file, protocol=pickle.HIGHEST_PROTOCOL)\n",
    "\n",
    "with open('labels.pickle', 'wb') as file:\n",
    "    pickle.dump(labels, file, protocol=pickle.HIGHEST_PROTOCOL)\n",
    "    \n",
    "# with open('data.pickle', 'rb') as file:\n",
    "#     data = pickle.load(file)\n",
    "    \n",
    "# with open('labels.pickle', 'rb') as file:\n",
    "#     labels = pickle.load(file)"
   ]
  },
  {
   "cell_type": "code",
   "execution_count": 19,
   "metadata": {},
   "outputs": [
    {
     "name": "stdout",
     "output_type": "stream",
     "text": [
      "935344\n",
      "935344\n",
      "[17890 12025 16609 12290]\n",
      "1\n"
     ]
    }
   ],
   "source": [
    "print(len(data))\n",
    "print(len(labels))\n",
    "print(data[0])\n",
    "print(labels[0])"
   ]
  },
  {
   "cell_type": "code",
   "execution_count": 20,
   "metadata": {},
   "outputs": [],
   "source": [
    "def generator(data, labels, vocab_size, training=True):\n",
    "    if training:\n",
    "        i = 0\n",
    "        end = int(len(data)*0.8)\n",
    "    else:\n",
    "        i = int(len(data)*0.8) + 1\n",
    "        end = len(data) - 1\n",
    "            \n",
    "    while True:\n",
    "        label_one_hot_encoded = np.zeros((vocab_size))\n",
    "        label_one_hot_encoded[labels[i]] = 1\n",
    "        yield np.array(data[i]), label_one_hot_encoded\n",
    "        if i == end: \n",
    "            i = 0\n",
    "        else:\n",
    "            i += 1"
   ]
  },
  {
   "cell_type": "code",
   "execution_count": 21,
   "metadata": {},
   "outputs": [
    {
     "name": "stdout",
     "output_type": "stream",
     "text": [
      "748275\n"
     ]
    }
   ],
   "source": [
    "training_steps = len(data[:int(len(data)*0.8)])\n",
    "print(training_steps)"
   ]
  },
  {
   "cell_type": "code",
   "execution_count": 23,
   "metadata": {},
   "outputs": [
    {
     "name": "stdout",
     "output_type": "stream",
     "text": [
      "(array([17890, 12025, 16609, 12290]), array([0., 1., 0., ..., 0., 0., 0.]))\n"
     ]
    }
   ],
   "source": [
    "training_data = generator(data, labels, len(vocab), training=True)\n",
    "print(next(training_data))"
   ]
  },
  {
   "cell_type": "code",
   "execution_count": null,
   "metadata": {},
   "outputs": [],
   "source": [
    "# def batch_generator(generator_specified, batch_size):\n",
    "#     while True:\n",
    "#         data_batch = []\n",
    "#         target_batch = []\n",
    "        \n",
    "#         for _ in range(batch_size):\n",
    "#             data_single, label_single = next(generator_specified)\n",
    "#             data_batch.append(data_single)\n",
    "#             target_batch.append(label_single)\n",
    "            \n",
    "#         yield np.array(data_batch), np.array(target_batch)"
   ]
  },
  {
   "cell_type": "code",
   "execution_count": null,
   "metadata": {},
   "outputs": [],
   "source": [
    "# batch_training_data = batch_generator(generator_specified=generator(data, labels, training=True), batch_size=2)\n",
    "# print(next(batch_training_data))"
   ]
  },
  {
   "cell_type": "code",
   "execution_count": null,
   "metadata": {},
   "outputs": [],
   "source": [
    "# # the following graph contains MLP 1, MLP 5, MLP 7, and MLP 9 loss optimizations\n",
    "# # MLP 1 model: y = b + Wx + Utanh(d + Hx) where MLP 1 is d + Hx\n",
    "\n",
    "# class Model:\n",
    "#     def __init__(self, num_hidden_units, vocab_size, embedding_size, weight_decay):\n",
    "#         h = num_hidden_units\n",
    "#         V = vocab_size\n",
    "#         m = embedding_size\n",
    "#         weight_decay = weight_decay\n",
    "    \n",
    "#         self.graph = tf.Graph()\n",
    "        \n",
    "#         with self.graph.as_default(), tf.device('/cpu:0'):\n",
    "#             with tf.name_scope('inputs'):\n",
    "#                 self.words = tf.placeholder(tf.int32, shape=[n-1])\n",
    "#                 self.y = tf.placeholder(tf.int32, shape=[V])\n",
    "#                 self.epsilon_t = tf.placeholder(tf.float64, shape=None)\n",
    "\n",
    "#             with tf.name_scope('parameters'):\n",
    "#                 C = tf.Variable(tf.random_uniform([V, m], -1.0, 1.0))\n",
    "#                 print(C.get_shape)\n",
    "#                 x = tf.reshape(tf.nn.embedding_lookup(C, words), [-1, 1])\n",
    "#                 H = tf.Variable(tf.truncated_normal([h, (n-1)*m], stddev=1.0/np.sqrt((n-1)*m)))\n",
    "#                 U = tf.Variable(tf.truncated_normal([V, h], stddev=1.0/np.sqrt(h)))\n",
    "#                 W = tf.Variable(tf.truncated_normal([V, (n-1)*m], stddev=1.0/np.sqrt((n-1)*m)))\n",
    "#                 b = tf.Variable(tf.zeros([V, 1]))\n",
    "#                 d1 = tf.Variable(tf.zeros([h, 1]))\n",
    "#                 d2 = tf.Variable(tf.zeros([h, 1]))\n",
    "#                 d3 = tf.Variable(tf.zeros([h, 1]))\n",
    "#                 d4 = tf.Variable(tf.zeros([h, 1]))\n",
    "#                 d5 = tf.Variable(tf.zeros([h, 1]))\n",
    "#                 d6 = tf.Variable(tf.zeros([h, 1]))\n",
    "#                 d7 = tf.Variable(tf.zeros([h, 1]))\n",
    "#                 d8 = tf.Variable(tf.zeros([h, 1]))\n",
    "#                 hid2 = tf.Variable(tf.truncated_normal([h, h], stddev=1.0/np.sqrt(h)))\n",
    "#                 hid3 = tf.Variable(tf.truncated_normal([h, h], stddev=1.0/np.sqrt(h)))\n",
    "#                 hid4 = tf.Variable(tf.truncated_normal([h, h], stddev=1.0/np.sqrt(h)))\n",
    "#                 hid5 = tf.Variable(tf.truncated_normal([h, h], stddev=1.0/np.sqrt(h)))\n",
    "#                 hid6 = tf.Variable(tf.truncated_normal([h, h], stddev=1.0/np.sqrt(h)))\n",
    "#                 hid7 = tf.Variable(tf.truncated_normal([h, h], stddev=1.0/np.sqrt(h)))\n",
    "#                 hid8 = tf.Variable(tf.truncated_normal([h, h], stddev=1.0/np.sqrt(h)))\n",
    "\n",
    "#             with tf.name_scope('direct_connections'):\n",
    "#                 Wx = tf.matmul(W, x)\n",
    "\n",
    "#             with tf.name_scope('MLPs'):\n",
    "#                 MLP1 = d1 + tf.matmul(H, x)\n",
    "#                 MLP2 = d2 + tf.matmul(hid2, tf.tanh(MLP1))\n",
    "#                 MLP3 = d3 + tf.matmul(hid3, tf.tanh(MLP2))\n",
    "#                 MLP4 = d4 + tf.matmul(hid4, tf.tanh(MLP3))\n",
    "#                 MLP5 = d5 + tf.matmul(hid5, tf.tanh(MLP4))\n",
    "#                 MLP6 = d6 + tf.matmul(hid6, tf.tanh(MLP5))\n",
    "#                 MLP7 = d7 + tf.matmul(hid7, tf.tanh(MLP6))\n",
    "#                 MLP8 = d8 + tf.matmul(hid8, tf.tanh(MLP7))\n",
    "\n",
    "#             with tf.name_scope('MLP_logits'):\n",
    "#                 MLP1_logits = b + Wx + tf.matmul(U, tf.tanh(MLP1))\n",
    "#                 MLP5_logits = b + Wx + tf.matmul(U, tf.tanh(MLP5))\n",
    "#                 MLP7_logits = b + Wx + tf.matmul(U, tf.tanh(MLP7))\n",
    "#                 MLP9_logits = b + tf.matmul(U, tf.tanh(MLP8)) # no direct connections\n",
    "\n",
    "#             self.MLP1_prob = tf.nn.softmax(logits=MLP1_logits, axis=0)\n",
    "#             self.MLP5_prob = tf.nn.softmax(logits=MLP5_logits, axis=0)\n",
    "#             self.MLP7_prob = tf.nn.softmax(logits=MLP7_logits, axis=0)\n",
    "#             self.MLP9_prob = tf.nn.softmax(logits=MLP9_logits, axis=0)\n",
    "\n",
    "#             with tf.name_scope('MLP_losses'):\n",
    "#                 self.MLP1_loss = tf.reduce_mean(tf.nn.softmax_cross_entropy_with_logits_v2(labels=tf.reshape(y, [1, -1]), logits=tf.reshape(MLP1_logits, [1,-1])))\n",
    "#                 self.MLP5_loss = tf.reduce_mean(tf.nn.softmax_cross_entropy_with_logits_v2(labels=tf.reshape(y, [1, -1]), logits=tf.reshape(MLP5_logits, [1,-1])))\n",
    "#                 self.MLP7_loss = tf.reduce_mean(tf.nn.softmax_cross_entropy_with_logits_v2(labels=tf.reshape(y, [1, -1]), logits=tf.reshape(MLP7_logits, [1,-1])))\n",
    "#                 self.MLP9_loss = tf.reduce_mean(tf.nn.softmax_cross_entropy_with_logits_v2(labels=tf.reshape(y, [1, -1]), logits=tf.reshape(MLP9_logits, [1,-1])))\n",
    "\n",
    "#             tf.summary.scalar('MLP1_loss', self.MLP1_loss)\n",
    "#             tf.summary.scalar('MLP5_loss', self.MLP5_loss)\n",
    "#             tf.summary.scalar('MLP7_loss', self.MLP7_loss)\n",
    "#             tf.summary.scalar('MLP9_loss', self.MLP9_loss)\n",
    "\n",
    "#             with tf.name_scope('optimizers'):\n",
    "#                 Custom_Optimizer = tf.contrib.opt.extend_with_decoupled_weight_decay(tf.train.GradientDescentOptimizer)\n",
    "#                 self.MLP1_optimizer = Custom_Optimizer(weight_decay=weight_decay, learning_rate=epsilon_t).minimize(self.MLP1_loss)\n",
    "#                 self.MLP5_optimizer = Custom_Optimizer(weight_decay=weight_decay, learning_rate=epsilon_t).minimize(self.MLP5_loss)\n",
    "#                 self.MLP7_optimizer = Custom_Optimizer(weight_decay=weight_decay, learning_rate=epsilon_t).minimize(self.MLP7_loss)\n",
    "#                 self.MLP9_optimizer = Custom_Optimizer(weight_decay=weight_decay, learning_rate=epsilon_t).minimize(self.MLP9_loss)\n",
    "#             #         optimizer = tf.train.GradientDescentOptimizer(learning_rate=epsilon_t).minimize(loss)\n",
    "\n",
    "#             # merge all summaries\n",
    "#             self.summary_merged = tf.summary.merge_all()"
   ]
  },
  {
   "cell_type": "code",
   "execution_count": 24,
   "metadata": {},
   "outputs": [
    {
     "name": "stdout",
     "output_type": "stream",
     "text": [
      "WARNING:tensorflow:From /usr/local/lib/python3.7/site-packages/tensorflow/python/framework/op_def_library.py:263: colocate_with (from tensorflow.python.framework.ops) is deprecated and will be removed in a future version.\n",
      "Instructions for updating:\n",
      "Colocations handled automatically by placer.\n",
      "\n",
      "WARNING: The TensorFlow contrib module will not be included in TensorFlow 2.0.\n",
      "For more information, please see:\n",
      "  * https://github.com/tensorflow/community/blob/master/rfcs/20180907-contrib-sunset.md\n",
      "  * https://github.com/tensorflow/addons\n",
      "If you depend on functionality not listed there, please file an issue.\n",
      "\n",
      "WARNING:tensorflow:From /usr/local/lib/python3.7/site-packages/tensorflow/python/ops/array_grad.py:425: to_int32 (from tensorflow.python.ops.math_ops) is deprecated and will be removed in a future version.\n",
      "Instructions for updating:\n",
      "Use tf.cast instead.\n"
     ]
    }
   ],
   "source": [
    "# the following graph contains MLP 1, MLP 5, MLP 7, and MLP 9 loss optimizations\n",
    "# MLP 1 model: y = b + Wx + Utanh(d + Hx) where MLP 1 is d + Hx\n",
    "\n",
    "h = 50\n",
    "V = len(vocab) # vocabulary size\n",
    "m = 60 # embedding size\n",
    "weight_decay = 10**(-4)\n",
    "\n",
    "graph = tf.Graph()\n",
    "with graph.as_default(), tf.device('/cpu:0'):\n",
    "    with tf.name_scope('inputs'):\n",
    "        words = tf.placeholder(tf.int32, shape=[n-1])\n",
    "        y = tf.placeholder(tf.int32, shape=[V])\n",
    "        epsilon_t = tf.placeholder(tf.float64, shape=None)\n",
    "\n",
    "    with tf.name_scope('parameters'):\n",
    "        C = tf.Variable(tf.random_uniform([V, m], -1.0, 1.0))\n",
    "        x = tf.reshape(tf.nn.embedding_lookup(C, words), [-1, 1])\n",
    "        H = tf.Variable(tf.truncated_normal([h, (n-1)*m], stddev=1.0/np.sqrt((n-1)*m)))\n",
    "        U = tf.Variable(tf.truncated_normal([V, h], stddev=1.0/np.sqrt(h)))\n",
    "        W = tf.Variable(tf.truncated_normal([V, (n-1)*m], stddev=1.0/np.sqrt((n-1)*m)))\n",
    "        b = tf.Variable(tf.zeros([V, 1]))\n",
    "        d = tf.Variable(tf.zeros([h, 1]))\n",
    "        d2 = tf.Variable(tf.zeros([h, 1]))\n",
    "        d3 = tf.Variable(tf.zeros([h, 1]))\n",
    "        d4 = tf.Variable(tf.zeros([h, 1]))\n",
    "        d5 = tf.Variable(tf.zeros([h, 1]))\n",
    "        d6 = tf.Variable(tf.zeros([h, 1]))\n",
    "        d7 = tf.Variable(tf.zeros([h, 1]))\n",
    "        d8 = tf.Variable(tf.zeros([h, 1]))\n",
    "        hid2 = tf.Variable(tf.truncated_normal([h, h], stddev=1.0/np.sqrt(h)))\n",
    "        hid3 = tf.Variable(tf.truncated_normal([h, h], stddev=1.0/np.sqrt(h)))\n",
    "        hid4 = tf.Variable(tf.truncated_normal([h, h], stddev=1.0/np.sqrt(h)))\n",
    "        hid5 = tf.Variable(tf.truncated_normal([h, h], stddev=1.0/np.sqrt(h)))\n",
    "        hid6 = tf.Variable(tf.truncated_normal([h, h], stddev=1.0/np.sqrt(h)))\n",
    "        hid7 = tf.Variable(tf.truncated_normal([h, h], stddev=1.0/np.sqrt(h)))\n",
    "        hid8 = tf.Variable(tf.truncated_normal([h, h], stddev=1.0/np.sqrt(h)))\n",
    "\n",
    "    with tf.name_scope('direct_connections'):\n",
    "        Wx = tf.matmul(W, x)\n",
    "\n",
    "    with tf.name_scope('MLPs'):\n",
    "        MLP1 = d + tf.matmul(H, x)\n",
    "        MLP2 = d2 + tf.matmul(hid2, tf.tanh(MLP1))\n",
    "        MLP3 = d3 + tf.matmul(hid3, tf.tanh(MLP2))\n",
    "        MLP4 = d4 + tf.matmul(hid4, tf.tanh(MLP3))\n",
    "        MLP5 = d5 + tf.matmul(hid5, tf.tanh(MLP4))\n",
    "        MLP6 = d6 + tf.matmul(hid6, tf.tanh(MLP5))\n",
    "        MLP7 = d7 + tf.matmul(hid7, tf.tanh(MLP6))\n",
    "        MLP8 = d8 + tf.matmul(hid8, tf.tanh(MLP7))\n",
    "\n",
    "    with tf.name_scope('MLP_logits'):\n",
    "        MLP1_logits = b + Wx + tf.matmul(U, tf.tanh(MLP1))\n",
    "        MLP5_logits = b + Wx + tf.matmul(U, tf.tanh(MLP5))\n",
    "        MLP7_logits = b + Wx + tf.matmul(U, tf.tanh(MLP7))\n",
    "        MLP9_logits = b + tf.matmul(U, tf.tanh(MLP8)) # no direct connections\n",
    "\n",
    "    MLP1_prob = tf.nn.softmax(logits=MLP1_logits, axis=0)\n",
    "    MLP5_prob = tf.nn.softmax(logits=MLP5_logits, axis=0)\n",
    "    MLP7_prob = tf.nn.softmax(logits=MLP7_logits, axis=0)\n",
    "    MLP9_prob = tf.nn.softmax(logits=MLP9_logits, axis=0)\n",
    "\n",
    "    with tf.name_scope('MLP_losses'):\n",
    "        MLP1_loss = tf.reduce_mean(tf.nn.softmax_cross_entropy_with_logits_v2(labels=tf.reshape(y, [1, -1]), logits=tf.reshape(MLP1_logits, [1,-1])))\n",
    "        MLP5_loss = tf.reduce_mean(tf.nn.softmax_cross_entropy_with_logits_v2(labels=tf.reshape(y, [1, -1]), logits=tf.reshape(MLP5_logits, [1,-1])))\n",
    "        MLP7_loss = tf.reduce_mean(tf.nn.softmax_cross_entropy_with_logits_v2(labels=tf.reshape(y, [1, -1]), logits=tf.reshape(MLP7_logits, [1,-1])))\n",
    "        MLP9_loss = tf.reduce_mean(tf.nn.softmax_cross_entropy_with_logits_v2(labels=tf.reshape(y, [1, -1]), logits=tf.reshape(MLP9_logits, [1,-1])))\n",
    "\n",
    "    tf.summary.scalar('MLP1_loss', MLP1_loss)\n",
    "    tf.summary.scalar('MLP5_loss', MLP5_loss)\n",
    "    tf.summary.scalar('MLP7_loss', MLP7_loss)\n",
    "    tf.summary.scalar('MLP9_loss', MLP9_loss)\n",
    "\n",
    "    with tf.name_scope('optimizers'):\n",
    "        Custom_Optimizer = tf.contrib.opt.extend_with_decoupled_weight_decay(tf.train.GradientDescentOptimizer)\n",
    "        MLP1_optimizer = Custom_Optimizer(weight_decay=weight_decay, learning_rate=epsilon_t).minimize(MLP1_loss)\n",
    "        MLP5_optimizer = Custom_Optimizer(weight_decay=weight_decay, learning_rate=epsilon_t).minimize(MLP5_loss)\n",
    "        MLP7_optimizer = Custom_Optimizer(weight_decay=weight_decay, learning_rate=epsilon_t).minimize(MLP7_loss)\n",
    "        MLP9_optimizer = Custom_Optimizer(weight_decay=weight_decay, learning_rate=epsilon_t).minimize(MLP9_loss)\n",
    "    #         optimizer = tf.train.GradientDescentOptimizer(learning_rate=epsilon_t).minimize(loss)\n",
    "\n",
    "    # merge all summaries\n",
    "    summary_merged = tf.summary.merge_all()"
   ]
  },
  {
   "cell_type": "code",
   "execution_count": 25,
   "metadata": {},
   "outputs": [],
   "source": [
    "# # the following graph contains MLP 3 with h = 0 only\n",
    "# # MLP 3 model: y = b + Wx + Utanh(d + x) where MLP 1 is d + Hx\n",
    "\n",
    "# MLP3_graph = tf.Graph()\n",
    "# with MLP3_graph.as_default(), tf.device('/cpu:0'):\n",
    "#     with tf.name_scope('inputs'):\n",
    "#         words = tf.placeholder(tf.int32, shape=[n-1])\n",
    "#         y = tf.placeholder(tf.int32, shape=[V])\n",
    "#         epsilon_t = tf.placeholder(tf.float64, shape=None)\n",
    "    \n",
    "#     with tf.name_scope('parameters'):\n",
    "#         C = tf.Variable(tf.random_uniform([V, m], -1.0, 1.0))\n",
    "#         x = tf.reshape(tf.nn.embedding_lookup(C, words), [-1, 1])\n",
    "#         W = tf.Variable(tf.truncated_normal([V, (n-1)*m], stddev=1.0/np.sqrt((n-1)*m)))\n",
    "#         M1 = tf.Variable(tf.truncated_normal([V, V], stddev=1.0/np.sqrt(V)))\n",
    "#         M2 = tf.Variable(tf.truncated_normal([V, V], stddev=1.0/np.sqrt(V)))\n",
    "#         b1 = tf.Variable(tf.zeros([V, 1]))\n",
    "#         b2 = tf.Variable(tf.zeros([V, 1]))\n",
    "#         b3 = tf.Variable(tf.zeros([V, 1]))\n",
    "    \n",
    "#     with tf.name_scope('direct_connections'):\n",
    "#         Wx = tf.matmul(W, x)\n",
    "        \n",
    "#     with tf.name_scope('MLPs'):\n",
    "#         MLP1 = b1 + tf.matmul(W, x)\n",
    "#         MLP2 = b2 + tf.matmul(M1, MLP1) \n",
    "#         MLP3 = tf.matmul(M2, MLP2)\n",
    "   \n",
    "#     with tf.name_scope('MLP_logits'):\n",
    "#         MLP3_logits = b3 + Wx + MLP3\n",
    "        \n",
    "#     MLP3_prob = tf.nn.softmax(logits=MLP3_logits, axis=0)\n",
    "\n",
    "#     with tf.name_scope('MLP_losses'):\n",
    "#         MLP3_loss = tf.reduce_mean(tf.nn.softmax_cross_entropy_with_logits_v2(labels=tf.reshape(y, [1, -1]), logits=tf.reshape(MLP3_logits, [1,-1])))\n",
    "    \n",
    "#     tf.summary.scalar('MLP3_loss', MLP3_loss)\n",
    "    \n",
    "#     with tf.name_scope('optimizers'):\n",
    "#         Custom_Optimizer = tf.contrib.opt.extend_with_decoupled_weight_decay(tf.train.GradientDescentOptimizer)\n",
    "#         MLP3_optimizer = Custom_Optimizer(weight_decay=weight_decay, learning_rate=epsilon_t).minimize(MLP3_loss)\n",
    "    \n",
    "#     # merge all summaries\n",
    "#     summary_merged = tf.summary.merge_all()"
   ]
  },
  {
   "cell_type": "code",
   "execution_count": 29,
   "metadata": {
    "scrolled": false
   },
   "outputs": [
    {
     "data": {
      "application/vnd.jupyter.widget-view+json": {
       "model_id": "9676e0f6e135431b91a23b33d3022425",
       "version_major": 2,
       "version_minor": 0
      },
      "text/plain": [
       "HBox(children=(IntProgress(value=0, max=748275), HTML(value='')))"
      ]
     },
     "metadata": {},
     "output_type": "display_data"
    },
    {
     "name": "stdout",
     "output_type": "stream",
     "text": [
      "average loss at step  10000 : 9.612359811592102\n",
      "perplexity at step 10000 : 14948.4039108899\n"
     ]
    },
    {
     "ename": "KeyboardInterrupt",
     "evalue": "",
     "output_type": "error",
     "traceback": [
      "\u001b[0;31m---------------------------------------------------------------------------\u001b[0m",
      "\u001b[0;31mKeyboardInterrupt\u001b[0m                         Traceback (most recent call last)",
      "\u001b[0;32m<timed exec>\u001b[0m in \u001b[0;36m<module>\u001b[0;34m\u001b[0m\n",
      "\u001b[0;32m/usr/local/lib/python3.7/site-packages/tensorflow/python/client/session.py\u001b[0m in \u001b[0;36mrun\u001b[0;34m(self, fetches, feed_dict, options, run_metadata)\u001b[0m\n\u001b[1;32m    927\u001b[0m     \u001b[0;32mtry\u001b[0m\u001b[0;34m:\u001b[0m\u001b[0;34m\u001b[0m\u001b[0;34m\u001b[0m\u001b[0m\n\u001b[1;32m    928\u001b[0m       result = self._run(None, fetches, feed_dict, options_ptr,\n\u001b[0;32m--> 929\u001b[0;31m                          run_metadata_ptr)\n\u001b[0m\u001b[1;32m    930\u001b[0m       \u001b[0;32mif\u001b[0m \u001b[0mrun_metadata\u001b[0m\u001b[0;34m:\u001b[0m\u001b[0;34m\u001b[0m\u001b[0;34m\u001b[0m\u001b[0m\n\u001b[1;32m    931\u001b[0m         \u001b[0mproto_data\u001b[0m \u001b[0;34m=\u001b[0m \u001b[0mtf_session\u001b[0m\u001b[0;34m.\u001b[0m\u001b[0mTF_GetBuffer\u001b[0m\u001b[0;34m(\u001b[0m\u001b[0mrun_metadata_ptr\u001b[0m\u001b[0;34m)\u001b[0m\u001b[0;34m\u001b[0m\u001b[0;34m\u001b[0m\u001b[0m\n",
      "\u001b[0;32m/usr/local/lib/python3.7/site-packages/tensorflow/python/client/session.py\u001b[0m in \u001b[0;36m_run\u001b[0;34m(self, handle, fetches, feed_dict, options, run_metadata)\u001b[0m\n\u001b[1;32m   1150\u001b[0m     \u001b[0;32mif\u001b[0m \u001b[0mfinal_fetches\u001b[0m \u001b[0;32mor\u001b[0m \u001b[0mfinal_targets\u001b[0m \u001b[0;32mor\u001b[0m \u001b[0;34m(\u001b[0m\u001b[0mhandle\u001b[0m \u001b[0;32mand\u001b[0m \u001b[0mfeed_dict_tensor\u001b[0m\u001b[0;34m)\u001b[0m\u001b[0;34m:\u001b[0m\u001b[0;34m\u001b[0m\u001b[0;34m\u001b[0m\u001b[0m\n\u001b[1;32m   1151\u001b[0m       results = self._do_run(handle, final_targets, final_fetches,\n\u001b[0;32m-> 1152\u001b[0;31m                              feed_dict_tensor, options, run_metadata)\n\u001b[0m\u001b[1;32m   1153\u001b[0m     \u001b[0;32melse\u001b[0m\u001b[0;34m:\u001b[0m\u001b[0;34m\u001b[0m\u001b[0;34m\u001b[0m\u001b[0m\n\u001b[1;32m   1154\u001b[0m       \u001b[0mresults\u001b[0m \u001b[0;34m=\u001b[0m \u001b[0;34m[\u001b[0m\u001b[0;34m]\u001b[0m\u001b[0;34m\u001b[0m\u001b[0;34m\u001b[0m\u001b[0m\n",
      "\u001b[0;32m/usr/local/lib/python3.7/site-packages/tensorflow/python/client/session.py\u001b[0m in \u001b[0;36m_do_run\u001b[0;34m(self, handle, target_list, fetch_list, feed_dict, options, run_metadata)\u001b[0m\n\u001b[1;32m   1326\u001b[0m     \u001b[0;32mif\u001b[0m \u001b[0mhandle\u001b[0m \u001b[0;32mis\u001b[0m \u001b[0;32mNone\u001b[0m\u001b[0;34m:\u001b[0m\u001b[0;34m\u001b[0m\u001b[0;34m\u001b[0m\u001b[0m\n\u001b[1;32m   1327\u001b[0m       return self._do_call(_run_fn, feeds, fetches, targets, options,\n\u001b[0;32m-> 1328\u001b[0;31m                            run_metadata)\n\u001b[0m\u001b[1;32m   1329\u001b[0m     \u001b[0;32melse\u001b[0m\u001b[0;34m:\u001b[0m\u001b[0;34m\u001b[0m\u001b[0;34m\u001b[0m\u001b[0m\n\u001b[1;32m   1330\u001b[0m       \u001b[0;32mreturn\u001b[0m \u001b[0mself\u001b[0m\u001b[0;34m.\u001b[0m\u001b[0m_do_call\u001b[0m\u001b[0;34m(\u001b[0m\u001b[0m_prun_fn\u001b[0m\u001b[0;34m,\u001b[0m \u001b[0mhandle\u001b[0m\u001b[0;34m,\u001b[0m \u001b[0mfeeds\u001b[0m\u001b[0;34m,\u001b[0m \u001b[0mfetches\u001b[0m\u001b[0;34m)\u001b[0m\u001b[0;34m\u001b[0m\u001b[0;34m\u001b[0m\u001b[0m\n",
      "\u001b[0;32m/usr/local/lib/python3.7/site-packages/tensorflow/python/client/session.py\u001b[0m in \u001b[0;36m_do_call\u001b[0;34m(self, fn, *args)\u001b[0m\n\u001b[1;32m   1332\u001b[0m   \u001b[0;32mdef\u001b[0m \u001b[0m_do_call\u001b[0m\u001b[0;34m(\u001b[0m\u001b[0mself\u001b[0m\u001b[0;34m,\u001b[0m \u001b[0mfn\u001b[0m\u001b[0;34m,\u001b[0m \u001b[0;34m*\u001b[0m\u001b[0margs\u001b[0m\u001b[0;34m)\u001b[0m\u001b[0;34m:\u001b[0m\u001b[0;34m\u001b[0m\u001b[0;34m\u001b[0m\u001b[0m\n\u001b[1;32m   1333\u001b[0m     \u001b[0;32mtry\u001b[0m\u001b[0;34m:\u001b[0m\u001b[0;34m\u001b[0m\u001b[0;34m\u001b[0m\u001b[0m\n\u001b[0;32m-> 1334\u001b[0;31m       \u001b[0;32mreturn\u001b[0m \u001b[0mfn\u001b[0m\u001b[0;34m(\u001b[0m\u001b[0;34m*\u001b[0m\u001b[0margs\u001b[0m\u001b[0;34m)\u001b[0m\u001b[0;34m\u001b[0m\u001b[0;34m\u001b[0m\u001b[0m\n\u001b[0m\u001b[1;32m   1335\u001b[0m     \u001b[0;32mexcept\u001b[0m \u001b[0merrors\u001b[0m\u001b[0;34m.\u001b[0m\u001b[0mOpError\u001b[0m \u001b[0;32mas\u001b[0m \u001b[0me\u001b[0m\u001b[0;34m:\u001b[0m\u001b[0;34m\u001b[0m\u001b[0;34m\u001b[0m\u001b[0m\n\u001b[1;32m   1336\u001b[0m       \u001b[0mmessage\u001b[0m \u001b[0;34m=\u001b[0m \u001b[0mcompat\u001b[0m\u001b[0;34m.\u001b[0m\u001b[0mas_text\u001b[0m\u001b[0;34m(\u001b[0m\u001b[0me\u001b[0m\u001b[0;34m.\u001b[0m\u001b[0mmessage\u001b[0m\u001b[0;34m)\u001b[0m\u001b[0;34m\u001b[0m\u001b[0;34m\u001b[0m\u001b[0m\n",
      "\u001b[0;32m/usr/local/lib/python3.7/site-packages/tensorflow/python/client/session.py\u001b[0m in \u001b[0;36m_run_fn\u001b[0;34m(feed_dict, fetch_list, target_list, options, run_metadata)\u001b[0m\n\u001b[1;32m   1317\u001b[0m       \u001b[0mself\u001b[0m\u001b[0;34m.\u001b[0m\u001b[0m_extend_graph\u001b[0m\u001b[0;34m(\u001b[0m\u001b[0;34m)\u001b[0m\u001b[0;34m\u001b[0m\u001b[0;34m\u001b[0m\u001b[0m\n\u001b[1;32m   1318\u001b[0m       return self._call_tf_sessionrun(\n\u001b[0;32m-> 1319\u001b[0;31m           options, feed_dict, fetch_list, target_list, run_metadata)\n\u001b[0m\u001b[1;32m   1320\u001b[0m \u001b[0;34m\u001b[0m\u001b[0m\n\u001b[1;32m   1321\u001b[0m     \u001b[0;32mdef\u001b[0m \u001b[0m_prun_fn\u001b[0m\u001b[0;34m(\u001b[0m\u001b[0mhandle\u001b[0m\u001b[0;34m,\u001b[0m \u001b[0mfeed_dict\u001b[0m\u001b[0;34m,\u001b[0m \u001b[0mfetch_list\u001b[0m\u001b[0;34m)\u001b[0m\u001b[0;34m:\u001b[0m\u001b[0;34m\u001b[0m\u001b[0;34m\u001b[0m\u001b[0m\n",
      "\u001b[0;32m/usr/local/lib/python3.7/site-packages/tensorflow/python/client/session.py\u001b[0m in \u001b[0;36m_call_tf_sessionrun\u001b[0;34m(self, options, feed_dict, fetch_list, target_list, run_metadata)\u001b[0m\n\u001b[1;32m   1405\u001b[0m     return tf_session.TF_SessionRun_wrapper(\n\u001b[1;32m   1406\u001b[0m         \u001b[0mself\u001b[0m\u001b[0;34m.\u001b[0m\u001b[0m_session\u001b[0m\u001b[0;34m,\u001b[0m \u001b[0moptions\u001b[0m\u001b[0;34m,\u001b[0m \u001b[0mfeed_dict\u001b[0m\u001b[0;34m,\u001b[0m \u001b[0mfetch_list\u001b[0m\u001b[0;34m,\u001b[0m \u001b[0mtarget_list\u001b[0m\u001b[0;34m,\u001b[0m\u001b[0;34m\u001b[0m\u001b[0;34m\u001b[0m\u001b[0m\n\u001b[0;32m-> 1407\u001b[0;31m         run_metadata)\n\u001b[0m\u001b[1;32m   1408\u001b[0m \u001b[0;34m\u001b[0m\u001b[0m\n\u001b[1;32m   1409\u001b[0m   \u001b[0;32mdef\u001b[0m \u001b[0m_call_tf_sessionprun\u001b[0m\u001b[0;34m(\u001b[0m\u001b[0mself\u001b[0m\u001b[0;34m,\u001b[0m \u001b[0mhandle\u001b[0m\u001b[0;34m,\u001b[0m \u001b[0mfeed_dict\u001b[0m\u001b[0;34m,\u001b[0m \u001b[0mfetch_list\u001b[0m\u001b[0;34m)\u001b[0m\u001b[0;34m:\u001b[0m\u001b[0;34m\u001b[0m\u001b[0;34m\u001b[0m\u001b[0m\n",
      "\u001b[0;31mKeyboardInterrupt\u001b[0m: "
     ]
    }
   ],
   "source": [
    "%%time\n",
    "# create the directory for TensorBoard variables if there is not\n",
    "log_dir = 'log'\n",
    "if not os.path.exists(log_dir):\n",
    "    os.makedirs(log_dir)\n",
    "    \n",
    "h = 50\n",
    "V = len(vocab) # vocabulary size\n",
    "m = 60 # embedding size\n",
    "epsilon_0 = 10**(-3)\n",
    "r = 10**(-8) # decrease factor\n",
    "# total number of parameters updates (from W, U, H, d, b, and words vectors from C) per training step \n",
    "t = V*(n-1)*m + V*h + h*(n-1)*m + h + V + m*(n-1)\n",
    "weight_decay = 10**(-4)\n",
    "\n",
    "num_epochs = 10\n",
    "num_steps = training_steps\n",
    "# num_steps = 10000\n",
    "parameter_updates = 0\n",
    "\n",
    "# model = Model(num_hidden_units=h, vocab_size=V, embedding_size=60, weight_decay=10**(-4))\n",
    "\n",
    "# with tf.Session(graph=model.graph) as session:\n",
    "with tf.Session(graph=graph) as session:\n",
    "    saver = tf.train.Saver()\n",
    "    writer = tf.summary.FileWriter(log_dir, session.graph)\n",
    "    \n",
    "    # initialize variables\n",
    "    tf.global_variables_initializer().run()\n",
    "    total_loss = 0\n",
    "    perplexity_exponent = 0\n",
    "    \n",
    "    for epoch in np.arange(num_epochs):\n",
    "        for step in tqdm_notebook(np.arange(num_steps)):\n",
    "            data_training, label = next(training_data)\n",
    "            learning_rate = epsilon_0\n",
    "\n",
    "            # collect runtime statistics\n",
    "            run_metadata = tf.RunMetadata()\n",
    "\n",
    "#             _, loss_step, prob_step, summary = session.run([model.MLP1_optimizer, model.MLP1_loss, model.MLP1_prob, model.summary_merged], \n",
    "#                                                             feed_dict={model.words:data_training, model.y:label, model.epsilon_t:learning_rate},\n",
    "#                                                             run_metadata=run_metadata)\n",
    "\n",
    "#             _, loss_step, prob_step, summary = session.run([MLP1_optimizer, MLP1_loss, MLP1_prob, summary_merged], \n",
    "#                                                             feed_dict={words:data_training, y:label, epsilon_t:learning_rate},\n",
    "#                                                             run_metadata=run_metadata)\n",
    "    \n",
    "            _, loss_step, prob_step, summary = session.run([MLP9_optimizer, MLP9_loss, MLP9_prob, summary_merged], \n",
    "                                                            feed_dict={words:data_training, y:label, epsilon_t:learning_rate},\n",
    "                                                            run_metadata=run_metadata)\n",
    "            \n",
    "            learning_rate = epsilon_0/(1+r*t)\n",
    "            parameter_updates += t\n",
    "            total_loss += loss_step\n",
    "            perplexity_exponent += np.log(prob_step[np.argmax(label)][0])\n",
    "\n",
    "            # record summaries\n",
    "            writer.add_summary(summary, step)\n",
    "            if step == (num_steps - 1):\n",
    "                writer.add_run_metadata(run_metadata, 'epoch{} step {}'.format(epoch, step))\n",
    "\n",
    "            if step % 10000 == 0 and step > 0:\n",
    "                print('average loss at step ', step, ':', total_loss/step)\n",
    "                print('perplexity at step', step, ':', np.exp(-perplexity_exponent/step))\n",
    "    \n",
    "    # save the model\n",
    "    saver.save(session, os.path.join(log_dir, 'model.ckpt'))\n",
    "    writer.close()"
   ]
  },
  {
   "cell_type": "code",
   "execution_count": null,
   "metadata": {},
   "outputs": [],
   "source": []
  }
 ],
 "metadata": {
  "kernelspec": {
   "display_name": "Python 3",
   "language": "python",
   "name": "python3"
  },
  "language_info": {
   "codemirror_mode": {
    "name": "ipython",
    "version": 3
   },
   "file_extension": ".py",
   "mimetype": "text/x-python",
   "name": "python",
   "nbconvert_exporter": "python",
   "pygments_lexer": "ipython3",
   "version": "3.7.3"
  }
 },
 "nbformat": 4,
 "nbformat_minor": 2
}
