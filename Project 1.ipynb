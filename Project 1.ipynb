{
 "cells": [
  {
   "cell_type": "code",
   "execution_count": 1,
   "metadata": {},
   "outputs": [
    {
     "name": "stderr",
     "output_type": "stream",
     "text": [
      "[nltk_data] Downloading package brown to /Users/guo/nltk_data...\n",
      "[nltk_data]   Package brown is already up-to-date!\n"
     ]
    }
   ],
   "source": [
    "import os\n",
    "import re\n",
    "import collections\n",
    "\n",
    "import nltk\n",
    "nltk.download('brown') # reference: http://www.nltk.org/nltk_data/\n",
    "from nltk.corpus import brown"
   ]
  },
  {
   "cell_type": "code",
   "execution_count": 2,
   "metadata": {},
   "outputs": [],
   "source": [
    "import numpy as np\n",
    "import tensorflow as tf"
   ]
  },
  {
   "cell_type": "code",
   "execution_count": 3,
   "metadata": {},
   "outputs": [],
   "source": [
    "words = brown.words()\n",
    "sents = brown.sents()"
   ]
  },
  {
   "cell_type": "code",
   "execution_count": 4,
   "metadata": {},
   "outputs": [
    {
     "name": "stdout",
     "output_type": "stream",
     "text": [
      "1161192\n",
      "56057\n",
      "57340\n"
     ]
    }
   ],
   "source": [
    "print(len(words))\n",
    "print(len(set(words)))\n",
    "print(len(sents))"
   ]
  },
  {
   "cell_type": "code",
   "execution_count": 5,
   "metadata": {},
   "outputs": [],
   "source": [
    "def _contains_letter(string):\n",
    "    if re.search(re.compile(r'\\w'), string): # if string contains an alphanumeric character\n",
    "        return True\n",
    "    return False"
   ]
  },
  {
   "cell_type": "code",
   "execution_count": 6,
   "metadata": {},
   "outputs": [],
   "source": [
    "def cleanse(words, sents):\n",
    "    sents_cleansed = []\n",
    "    for sent in sents:\n",
    "        sent_cleansed = [word for word in sent if _contains_letter(word)] # filter out punctuations\n",
    "        if len(sent_cleansed) > 0: # filter out empty lists\n",
    "            sent_cleansed[0] = sent_cleansed[0].lower() # lower the first letter in a sentence\n",
    "            sents_cleansed.append(sent_cleansed)\n",
    "    \n",
    "    words_cleansed = []\n",
    "    for sent in sents_cleansed:\n",
    "        for word in sent:\n",
    "            words_cleansed.append(word)\n",
    "    return words_cleansed, sents_cleansed"
   ]
  },
  {
   "cell_type": "code",
   "execution_count": 7,
   "metadata": {},
   "outputs": [],
   "source": [
    "# words_cleansed, sents_cleansed = cleanse(words, sents)"
   ]
  },
  {
   "cell_type": "code",
   "execution_count": 8,
   "metadata": {},
   "outputs": [],
   "source": [
    "# print(len(words_cleansed))\n",
    "# print(len(sents_cleansed))\n",
    "# print(sents_cleansed[0]) # first sentence"
   ]
  },
  {
   "cell_type": "code",
   "execution_count": 9,
   "metadata": {},
   "outputs": [],
   "source": [
    "def map_words_sents(words, sents):\n",
    "    # select vocabulary\n",
    "    vocab = {}\n",
    "    vocab['UNK'] = 0\n",
    "    word_count_sorted = sorted(collections.Counter(words).items(), key=lambda item: item[1])\n",
    "    for item in word_count_sorted:\n",
    "        if item[1] > 3: # if word frequency < 3\n",
    "            vocab[item[0]] = len(vocab)\n",
    "        else:\n",
    "            vocab['UNK'] += 1\n",
    "    vocab_reversed = dict(zip(vocab.values(), vocab.keys()))\n",
    "    \n",
    "    # map word to index number\n",
    "    sents_mapped = []\n",
    "    for sent in sents:\n",
    "        sents_mapped.append([vocab.get(word, 0) for word in sent])\n",
    "    return sents_mapped, vocab, vocab_reversed"
   ]
  },
  {
   "cell_type": "code",
   "execution_count": 10,
   "metadata": {},
   "outputs": [],
   "source": [
    "sents_mapped, vocab, vocab_reversed = map_words_sents(words, sents)"
   ]
  },
  {
   "cell_type": "code",
   "execution_count": 11,
   "metadata": {},
   "outputs": [],
   "source": [
    "n = 5 # order of the model"
   ]
  },
  {
   "cell_type": "code",
   "execution_count": 12,
   "metadata": {},
   "outputs": [
    {
     "name": "stdout",
     "output_type": "stream",
     "text": [
      "57340\n",
      "17905\n"
     ]
    }
   ],
   "source": [
    "print(len(sents_mapped))\n",
    "print(len(vocab))"
   ]
  },
  {
   "cell_type": "code",
   "execution_count": 13,
   "metadata": {},
   "outputs": [],
   "source": [
    "def generate_data(sents_mapped, n, vocab_size, training=True):\n",
    "    data = [] # sets of n-word sequence\n",
    "    labels = [] # sets of 1-word prediction\n",
    "    \n",
    "    for sent in sents_mapped:\n",
    "        beginning_index = 0\n",
    "        end_index = n\n",
    "        while end_index < len(sent):\n",
    "            feed = sent[beginning_index:end_index]\n",
    "            target = sent[end_index]\n",
    "            data.append(feed)\n",
    "            arr = np.zeros((vocab_size)) # one-hot encoding\n",
    "            arr[target] = 1\n",
    "            labels.append(arr)\n",
    "            end_index += 1\n",
    "            beginning_index += 1\n",
    "            \n",
    "    return data, labels\n",
    "\n",
    "data, labels = generate_data(sents_mapped, n, len(vocab), training=True)"
   ]
  },
  {
   "cell_type": "code",
   "execution_count": 14,
   "metadata": {},
   "outputs": [
    {
     "name": "stdout",
     "output_type": "stream",
     "text": [
      "881239\n",
      "881239\n"
     ]
    }
   ],
   "source": [
    "print(len(data))\n",
    "print(len(labels))"
   ]
  },
  {
   "cell_type": "code",
   "execution_count": 15,
   "metadata": {},
   "outputs": [],
   "source": [
    "def generator(data, labels, training=True):\n",
    "    if training:\n",
    "        i = 0\n",
    "        end = int(len(data)*0.8)\n",
    "    else:\n",
    "        i = int(len(data)*0.8) + 1\n",
    "        end = len(data) - 1\n",
    "            \n",
    "    while True:\n",
    "        yield np.array(data[i]), np.array(labels[i])\n",
    "        if i == end: \n",
    "            i = 0\n",
    "        else:\n",
    "            i += 1"
   ]
  },
  {
   "cell_type": "code",
   "execution_count": 16,
   "metadata": {},
   "outputs": [],
   "source": [
    "def batch_generator(generator_specified, batch_size):\n",
    "    while True:\n",
    "        data_batch = []\n",
    "        target_batch = []\n",
    "        \n",
    "        for _ in range(batch_size):\n",
    "            data_single, label_single = next(generator_specified)\n",
    "            data_batch.append(data_single)\n",
    "            target_batch.append(label_single)\n",
    "            \n",
    "        yield np.array(data_batch), np.array(target_batch)"
   ]
  },
  {
   "cell_type": "code",
   "execution_count": 17,
   "metadata": {},
   "outputs": [
    {
     "name": "stdout",
     "output_type": "stream",
     "text": [
      "(array([17890, 12025, 16609, 12290,     1]), array([0., 0., 0., ..., 0., 0., 0.]))\n",
      "(array([[17890, 12025, 16609, 12290,     1],\n",
      "       [12025, 16609, 12290,     1, 17845]]), array([[0., 0., 0., ..., 0., 0., 0.],\n",
      "       [0., 0., 0., ..., 0., 0., 0.]]))\n"
     ]
    }
   ],
   "source": [
    "training_data = generator(data, labels, training=True)\n",
    "print(next(training_data))\n",
    "batch_training_data = batch_generator(generator_specified=generator(data, labels, training=True), batch_size=2)\n",
    "print(next(batch_training_data))"
   ]
  },
  {
   "cell_type": "code",
   "execution_count": 18,
   "metadata": {},
   "outputs": [],
   "source": [
    "V = len(vocab) # vocabulary size\n",
    "m = 60 # embedding size\n",
    "h = 50"
   ]
  },
  {
   "cell_type": "code",
   "execution_count": 21,
   "metadata": {},
   "outputs": [],
   "source": [
    "# model: y = b + Wx + Utanh(d + Hx)\n",
    "graph = tf.Graph()\n",
    "with graph.as_default(), tf.device('/cpu:0'):\n",
    "    with tf.name_scope('inputs'):\n",
    "        x = tf.placeholder(tf.int32, shape=[n])\n",
    "        y = tf.placeholder(tf.int32, shape=[V])\n",
    "\n",
    "    with tf.name_scope('embeddings'):\n",
    "        embeddings = tf.Variable(tf.random_uniform([V, m], -1.0, 1.0))\n",
    "        embed = tf.nn.embedding_lookup(embeddings, x)\n",
    "\n",
    "    with tf.name_scope('H'):\n",
    "        H = tf.Variable(tf.truncated_normal([h, n*m], stddev=1.0/np.sqrt(n*m)))\n",
    "    with tf.name_scope('U'):\n",
    "        U = tf.Variable(tf.truncated_normal([V, h], stddev=1.0/np.sqrt(h)))\n",
    "    with tf.name_scope('d'):\n",
    "        d = tf.Variable(tf.zeros([h, 1]))\n",
    "    with tf.name_scope('b'):\n",
    "        b = tf.Variable(tf.zeros([V, 1]))\n",
    "    with tf.name_scope('W'):\n",
    "        W = tf.Variable(tf.truncated_normal([V, n*m], stddev=1.0/np.sqrt(n*m)))\n",
    "        \n",
    "    with tf.name_scope('logits'):\n",
    "        logits = b + tf.matmul(W, tf.reshape(embed, [-1, 1])) + tf.matmul(U, tf.tanh(d + tf.matmul(H, tf.reshape(embed, [-1, 1]))))\n",
    "\n",
    "    with tf.name_scope('loss'):\n",
    "        loss = tf.reduce_mean(tf.nn.softmax_cross_entropy_with_logits_v2(labels=tf.reshape(y, [1, -1]), logits=tf.reshape(logits, [1,-1])))\n",
    "        prob = tf.nn.softmax(logits=logits, axis=0)\n",
    "\n",
    "    tf.summary.scalar('loss', loss)\n",
    "    \n",
    "    with tf.name_scope('optimizer'): \n",
    "        optimizer = tf.train.AdamOptimizer(0.1).minimize(loss)\n",
    "    \n",
    "    # merge all summaries\n",
    "    summary_merged = tf.summary.merge_all()\n",
    "    \n",
    "    # create a saver\n",
    "    saver = tf.train.Saver()"
   ]
  },
  {
   "cell_type": "code",
   "execution_count": 22,
   "metadata": {
    "scrolled": false
   },
   "outputs": [
    {
     "name": "stderr",
     "output_type": "stream",
     "text": [
      "/usr/local/lib/python3.7/site-packages/ipykernel_launcher.py:32: RuntimeWarning: divide by zero encountered in log\n"
     ]
    },
    {
     "name": "stdout",
     "output_type": "stream",
     "text": [
      "average loss at step  2000 : 680.19434\n",
      "perplexity at step 2000 : inf\n",
      "average loss at step  4000 : 443.40604\n",
      "perplexity at step 4000 : inf\n",
      "average loss at step  6000 : 377.32315\n",
      "perplexity at step 6000 : inf\n",
      "average loss at step  8000 : 427.8276\n",
      "perplexity at step 8000 : inf\n",
      "average loss at step  10000 : 134.6681\n",
      "perplexity at step 10000 : inf\n",
      "average loss at step  12000 : 0.0\n",
      "perplexity at step 12000 : inf\n",
      "average loss at step  14000 : 802.5867\n",
      "perplexity at step 14000 : inf\n",
      "average loss at step  16000 : 1991.791\n",
      "perplexity at step 16000 : inf\n",
      "average loss at step  18000 : 382.6027\n",
      "perplexity at step 18000 : inf\n",
      "average loss at step  20000 : 773.2907\n",
      "perplexity at step 20000 : inf\n",
      "average loss at step  22000 : 869.0157\n",
      "perplexity at step 22000 : inf\n",
      "average loss at step  24000 : 916.0696\n",
      "perplexity at step 24000 : inf\n",
      "average loss at step  26000 : 1612.2839\n",
      "perplexity at step 26000 : inf\n",
      "average loss at step  28000 : 406.86835\n",
      "perplexity at step 28000 : inf\n",
      "CPU times: user 1h 22min 34s, sys: 2min 26s, total: 1h 25min\n",
      "Wall time: 11min 31s\n"
     ]
    }
   ],
   "source": [
    "%%time\n",
    "# create the directory for TensorBoard variables if there is not\n",
    "log_dir = 'log'\n",
    "if not os.path.exists(log_dir):\n",
    "    os.makedirs(log_dir)\n",
    "    \n",
    "num_steps = 30000\n",
    "\n",
    "with tf.Session(graph=graph) as session:\n",
    "    writer = tf.summary.FileWriter(log_dir, session.graph)\n",
    "    \n",
    "    # initialize variables\n",
    "    tf.global_variables_initializer().run()\n",
    "    total_loss = 0\n",
    "    perplexity_exponent = 0\n",
    "    \n",
    "    for step in np.arange(num_steps):\n",
    "        data_training, label = next(training_data)\n",
    "\n",
    "        # collect runtime statistics\n",
    "        run_metadata = tf.RunMetadata()\n",
    "        \n",
    "        _, loss_step, prob_step, summary = session.run([optimizer, loss, prob, summary_merged], \n",
    "                                                        feed_dict={x:data_training, y:label},\n",
    "                                                        run_metadata=run_metadata)\n",
    "        \n",
    "        # record summaries\n",
    "        writer.add_summary(summary, step)\n",
    "        if step == (num_steps - 1):\n",
    "            writer.add_run_metadata(run_metadata, 'step {}'.format(step))\n",
    "            \n",
    "        total_loss += loss_step\n",
    "#         perplexity_exponent += np.log(prob_step[np.argmax(label)][0])\n",
    "        \n",
    "        if step % 2000 == 0 and step > 0:\n",
    "            print('average loss at step ', step, ':', loss_step)\n",
    "#             print('perplexity at step', step, ':', np.exp(-perplexity_exponent/step))\n",
    "    \n",
    "    # save the model\n",
    "    saver.save(session, os.path.join(log_dir, 'model.ckpt'))\n",
    "    writer.close()"
   ]
  },
  {
   "cell_type": "code",
   "execution_count": null,
   "metadata": {},
   "outputs": [],
   "source": []
  }
 ],
 "metadata": {
  "kernelspec": {
   "display_name": "Python 3",
   "language": "python",
   "name": "python3"
  },
  "language_info": {
   "codemirror_mode": {
    "name": "ipython",
    "version": 3
   },
   "file_extension": ".py",
   "mimetype": "text/x-python",
   "name": "python",
   "nbconvert_exporter": "python",
   "pygments_lexer": "ipython3",
   "version": "3.7.3"
  }
 },
 "nbformat": 4,
 "nbformat_minor": 2
}
