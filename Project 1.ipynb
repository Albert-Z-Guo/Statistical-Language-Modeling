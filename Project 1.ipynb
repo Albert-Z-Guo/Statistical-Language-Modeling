{
 "cells": [
  {
   "cell_type": "code",
   "execution_count": 109,
   "metadata": {},
   "outputs": [
    {
     "name": "stderr",
     "output_type": "stream",
     "text": [
      "[nltk_data] Downloading package brown to /Users/guo/nltk_data...\n",
      "[nltk_data]   Package brown is already up-to-date!\n"
     ]
    }
   ],
   "source": [
    "import os\n",
    "import re\n",
    "import collections\n",
    "\n",
    "import nltk\n",
    "nltk.download('brown') # reference: http://www.nltk.org/nltk_data/\n",
    "from nltk.corpus import brown"
   ]
  },
  {
   "cell_type": "code",
   "execution_count": 94,
   "metadata": {},
   "outputs": [],
   "source": [
    "import numpy as np\n",
    "import tensorflow as tf\n",
    "from tensorflow import extend_with_decoupled_weight_decay\n",
    "from tqdm import tqdm_notebook"
   ]
  },
  {
   "cell_type": "code",
   "execution_count": 4,
   "metadata": {},
   "outputs": [],
   "source": [
    "words = brown.words()\n",
    "sents = brown.sents()"
   ]
  },
  {
   "cell_type": "code",
   "execution_count": 5,
   "metadata": {},
   "outputs": [
    {
     "name": "stdout",
     "output_type": "stream",
     "text": [
      "1161192\n",
      "56057\n",
      "57340\n"
     ]
    }
   ],
   "source": [
    "print(len(words))\n",
    "print(len(set(words)))\n",
    "print(len(sents))"
   ]
  },
  {
   "cell_type": "code",
   "execution_count": 6,
   "metadata": {},
   "outputs": [],
   "source": [
    "def _contains_letter(string):\n",
    "    if re.search(re.compile(r'\\w'), string): # if string contains an alphanumeric character\n",
    "        return True\n",
    "    return False"
   ]
  },
  {
   "cell_type": "code",
   "execution_count": 7,
   "metadata": {},
   "outputs": [],
   "source": [
    "def cleanse(words, sents):\n",
    "    sents_cleansed = []\n",
    "    for sent in sents:\n",
    "        sent_cleansed = [word for word in sent if _contains_letter(word)] # filter out punctuations\n",
    "        if len(sent_cleansed) > 0: # filter out empty lists\n",
    "            sent_cleansed[0] = sent_cleansed[0].lower() # lower the first letter in a sentence\n",
    "            sents_cleansed.append(sent_cleansed)\n",
    "    \n",
    "    words_cleansed = []\n",
    "    for sent in sents_cleansed:\n",
    "        for word in sent:\n",
    "            words_cleansed.append(word)\n",
    "    return words_cleansed, sents_cleansed"
   ]
  },
  {
   "cell_type": "code",
   "execution_count": 8,
   "metadata": {},
   "outputs": [],
   "source": [
    "# words_cleansed, sents_cleansed = cleanse(words, sents)"
   ]
  },
  {
   "cell_type": "code",
   "execution_count": 9,
   "metadata": {},
   "outputs": [],
   "source": [
    "# print(len(words_cleansed))\n",
    "# print(len(sents_cleansed))\n",
    "# print(sents_cleansed[0]) # first sentence"
   ]
  },
  {
   "cell_type": "code",
   "execution_count": 10,
   "metadata": {},
   "outputs": [],
   "source": [
    "def map_words_sents(words, sents):\n",
    "    # select vocabulary\n",
    "    vocab = {}\n",
    "    vocab['UNK'] = 0\n",
    "    word_count_sorted = sorted(collections.Counter(words).items(), key=lambda item: item[1])\n",
    "    for item in word_count_sorted:\n",
    "        if item[1] > 3: # if word frequency < 3\n",
    "            vocab[item[0]] = len(vocab)\n",
    "        else:\n",
    "            vocab['UNK'] += 1\n",
    "    vocab_reversed = dict(zip(vocab.values(), vocab.keys()))\n",
    "    \n",
    "    # map word to index number\n",
    "    sents_mapped = []\n",
    "    for sent in sents:\n",
    "        sents_mapped.append([vocab.get(word, 0) for word in sent])\n",
    "    return sents_mapped, vocab, vocab_reversed"
   ]
  },
  {
   "cell_type": "code",
   "execution_count": 11,
   "metadata": {},
   "outputs": [],
   "source": [
    "sents_mapped, vocab, vocab_reversed = map_words_sents(words, sents)"
   ]
  },
  {
   "cell_type": "code",
   "execution_count": 12,
   "metadata": {},
   "outputs": [],
   "source": [
    "n = 5 # order of the model"
   ]
  },
  {
   "cell_type": "code",
   "execution_count": 13,
   "metadata": {},
   "outputs": [
    {
     "name": "stdout",
     "output_type": "stream",
     "text": [
      "57340\n",
      "17905\n"
     ]
    }
   ],
   "source": [
    "print(len(sents_mapped))\n",
    "print(len(vocab))"
   ]
  },
  {
   "cell_type": "code",
   "execution_count": 36,
   "metadata": {},
   "outputs": [],
   "source": [
    "def generate_data(sents_mapped, n, vocab_size, training=True):\n",
    "    data = [] # sets of n-word sequence\n",
    "    labels = [] # sets of 1-word prediction\n",
    "    \n",
    "    for sent in sents_mapped:\n",
    "        beginning_index = 0\n",
    "        end_index = n - 1\n",
    "        while end_index < len(sent):\n",
    "            feed = sent[beginning_index:end_index]\n",
    "            target = sent[end_index]\n",
    "            data.append(feed)\n",
    "            arr = np.zeros((vocab_size)) # one-hot encoding\n",
    "            arr[target] = 1\n",
    "            labels.append(arr)\n",
    "            end_index += 1\n",
    "            beginning_index += 1\n",
    "            \n",
    "    return data, labels\n",
    "\n",
    "data, labels = generate_data(sents_mapped, n, len(vocab), training=True)"
   ]
  },
  {
   "cell_type": "code",
   "execution_count": 37,
   "metadata": {},
   "outputs": [
    {
     "name": "stdout",
     "output_type": "stream",
     "text": [
      "935344\n",
      "935344\n",
      "[17890, 12025, 16609, 12290]\n"
     ]
    }
   ],
   "source": [
    "print(len(data))\n",
    "print(len(labels))\n",
    "print(data[0])"
   ]
  },
  {
   "cell_type": "code",
   "execution_count": 38,
   "metadata": {},
   "outputs": [
    {
     "name": "stdout",
     "output_type": "stream",
     "text": [
      "748275\n"
     ]
    }
   ],
   "source": [
    "training_steps = len(data[:int(len(data)*0.8)])\n",
    "print(training_steps)"
   ]
  },
  {
   "cell_type": "code",
   "execution_count": 39,
   "metadata": {},
   "outputs": [],
   "source": [
    "def generator(data, labels, training=True):\n",
    "    if training:\n",
    "        i = 0\n",
    "        end = int(len(data)*0.8)\n",
    "    else:\n",
    "        i = int(len(data)*0.8) + 1\n",
    "        end = len(data) - 1\n",
    "            \n",
    "    while True:\n",
    "        yield np.array(data[i]), np.array(labels[i])\n",
    "        if i == end: \n",
    "            i = 0\n",
    "        else:\n",
    "            i += 1"
   ]
  },
  {
   "cell_type": "code",
   "execution_count": 40,
   "metadata": {},
   "outputs": [],
   "source": [
    "def batch_generator(generator_specified, batch_size):\n",
    "    while True:\n",
    "        data_batch = []\n",
    "        target_batch = []\n",
    "        \n",
    "        for _ in range(batch_size):\n",
    "            data_single, label_single = next(generator_specified)\n",
    "            data_batch.append(data_single)\n",
    "            target_batch.append(label_single)\n",
    "            \n",
    "        yield np.array(data_batch), np.array(target_batch)"
   ]
  },
  {
   "cell_type": "code",
   "execution_count": 41,
   "metadata": {},
   "outputs": [
    {
     "name": "stdout",
     "output_type": "stream",
     "text": [
      "(array([17890, 12025, 16609, 12290]), array([0., 1., 0., ..., 0., 0., 0.]))\n",
      "(array([[17890, 12025, 16609, 12290],\n",
      "       [12025, 16609, 12290,     1]]), array([[0., 1., 0., ..., 0., 0., 0.],\n",
      "       [0., 0., 0., ..., 0., 0., 0.]]))\n"
     ]
    }
   ],
   "source": [
    "training_data = generator(data, labels, training=True)\n",
    "print(next(training_data))\n",
    "batch_training_data = batch_generator(generator_specified=generator(data, labels, training=True), batch_size=2)\n",
    "print(next(batch_training_data))"
   ]
  },
  {
   "cell_type": "code",
   "execution_count": 96,
   "metadata": {},
   "outputs": [],
   "source": [
    "V = len(vocab) # vocabulary size\n",
    "m = 60 # embedding size\n",
    "h = 50\n",
    "epsilon_0 = 10**(-3)\n",
    "\n",
    "# total number of parameters updates (from W, U, H, d, b, and words vectors from C) per training step \n",
    "t = V*(n-1)*m + V*h + h*(n-1)*m + h + V + m*(n-1)\n",
    "r = 10**(-8) # decrease factor\n",
    "\n",
    "# num_epochs = 1\n",
    "num_epochs = 15\n",
    "\n",
    "weight_decay = 10**(-4)"
   ]
  },
  {
   "cell_type": "code",
   "execution_count": 67,
   "metadata": {
    "scrolled": true
   },
   "outputs": [
    {
     "data": {
      "text/plain": [
       "2.558804731215836e-08"
      ]
     },
     "execution_count": 67,
     "metadata": {},
     "output_type": "execute_result"
    }
   ],
   "source": [
    "print(epsilon_0/(1+748275*t*r))"
   ]
  },
  {
   "cell_type": "code",
   "execution_count": 107,
   "metadata": {},
   "outputs": [],
   "source": [
    "# model: y = b + Wx + Utanh(d + Hx)\n",
    "graph = tf.Graph()\n",
    "with graph.as_default(), tf.device('/cpu:0'):\n",
    "    with tf.name_scope('inputs'):\n",
    "        words = tf.placeholder(tf.int32, shape=[n-1])\n",
    "        y = tf.placeholder(tf.int32, shape=[V])\n",
    "        epsilon_t = tf.placeholder(tf.float64, shape=None)\n",
    "        \n",
    "    with tf.name_scope('C'):\n",
    "        C = tf.Variable(tf.random_uniform([V, m], -1.0, 1.0))\n",
    "        \n",
    "    with tf.name_scope('x'):\n",
    "        x = tf.reshape(tf.nn.embedding_lookup(C, words), [-1, 1])\n",
    "    \n",
    "    with tf.name_scope('H'):\n",
    "        H = tf.Variable(tf.truncated_normal([h, (n-1)*m], stddev=1.0/np.sqrt((n-1)*m)))\n",
    "    \n",
    "    with tf.name_scope('U'):\n",
    "        U = tf.Variable(tf.truncated_normal([V, h], stddev=1.0/np.sqrt(h)))\n",
    "    \n",
    "    with tf.name_scope('W'):\n",
    "        W = tf.Variable(tf.truncated_normal([V, (n-1)*m], stddev=1.0/np.sqrt((n-1)*m)))\n",
    "\n",
    "    with tf.name_scope('d'):\n",
    "        d = tf.Variable(tf.zeros([h, 1]))\n",
    "    \n",
    "    with tf.name_scope('b'):\n",
    "        b = tf.Variable(tf.zeros([V, 1]))\n",
    "   \n",
    "    with tf.name_scope('logits'):\n",
    "        logits = b + tf.matmul(W, x) + tf.matmul(U, tf.tanh(d + tf.matmul(H, x)))\n",
    "        \n",
    "    prob = tf.nn.softmax(logits=logits, axis=0)\n",
    "\n",
    "    with tf.name_scope('loss'):\n",
    "        loss = tf.reduce_mean(tf.nn.softmax_cross_entropy_with_logits_v2(labels=tf.reshape(y, [1, -1]), logits=tf.reshape(logits, [1,-1])))\n",
    "    \n",
    "    tf.summary.scalar('loss', loss)\n",
    "    \n",
    "    with tf.name_scope('optimizer'):\n",
    "        Custom_Optimizer = tf.contrib.opt.extend_with_decoupled_weight_decay(tf.train.GradientDescentOptimizer)\n",
    "        optimizer = Custom_Optimizer(weight_decay=weight_decay, learning_rate=epsilon_t).minimize(loss)\n",
    "#         optimizer = tf.train.GradientDescentOptimizer(learning_rate=epsilon_t).minimize(loss)\n",
    "    \n",
    "    # merge all summaries\n",
    "    summary_merged = tf.summary.merge_all()\n",
    "    \n",
    "    # create a saver\n",
    "    saver = tf.train.Saver()"
   ]
  },
  {
   "cell_type": "code",
   "execution_count": 108,
   "metadata": {
    "scrolled": false
   },
   "outputs": [
    {
     "data": {
      "application/vnd.jupyter.widget-view+json": {
       "model_id": "e60bc2d6854a4a36abdb4252a89b1e07",
       "version_major": 2,
       "version_minor": 0
      },
      "text/plain": [
       "HBox(children=(IntProgress(value=0), HTML(value='')))"
      ]
     },
     "metadata": {},
     "output_type": "display_data"
    },
    {
     "name": "stdout",
     "output_type": "stream",
     "text": [
      "average loss at step  20 : 9.836564\n",
      "average loss at step  40 : 10.163299\n",
      "average loss at step  60 : 10.617195\n",
      "average loss at step  80 : 10.352248\n",
      "CPU times: user 10.4 s, sys: 312 ms, total: 10.7 s\n",
      "Wall time: 1.59 s\n"
     ]
    }
   ],
   "source": [
    "%%time\n",
    "# create the directory for TensorBoard variables if there is not\n",
    "log_dir = 'log'\n",
    "if not os.path.exists(log_dir):\n",
    "    os.makedirs(log_dir)\n",
    "    \n",
    "num_steps = training_steps\n",
    "# num_steps = 100\n",
    "parameter_updates = 0\n",
    "\n",
    "with tf.Session(graph=graph) as session:\n",
    "    writer = tf.summary.FileWriter(log_dir, session.graph)\n",
    "    \n",
    "    # initialize variables\n",
    "    tf.global_variables_initializer().run()\n",
    "    total_loss = 0\n",
    "    perplexity_exponent = 0\n",
    "    \n",
    "    for epoch in np.arange(num_epochs):\n",
    "        for step in tqdm_notebook(np.arange(num_steps)):\n",
    "            data_training, label = next(training_data)\n",
    "            learning_rate = epsilon_0\n",
    "\n",
    "            # collect runtime statistics\n",
    "            run_metadata = tf.RunMetadata()\n",
    "\n",
    "            _, loss_step, prob_step, summary = session.run([optimizer, loss, prob, summary_merged], \n",
    "                                                            feed_dict={words:data_training, y:label, epsilon_t:learning_rate},\n",
    "                                                            run_metadata=run_metadata)\n",
    "            learning_rate = epsilon_0/(1+r*t)\n",
    "            parameter_updates += t\n",
    "            total_loss += loss_step\n",
    "    #         perplexity_exponent += np.log(prob_step[np.argmax(label)][0])\n",
    "\n",
    "            # record summaries\n",
    "            writer.add_summary(summary, step)\n",
    "            if step == (num_steps - 1):\n",
    "                writer.add_run_metadata(run_metadata, 'step {}'.format(step))\n",
    "\n",
    "            if step % 2000 == 0 and step > 0:\n",
    "                print('average loss at step ', step, ':', loss_step)\n",
    "    #             print('perplexity at step', step, ':', np.exp(-perplexity_exponent/step))\n",
    "    \n",
    "    # save the model\n",
    "    saver.save(session, os.path.join(log_dir, 'model.ckpt'))\n",
    "    writer.close()"
   ]
  },
  {
   "cell_type": "code",
   "execution_count": null,
   "metadata": {},
   "outputs": [],
   "source": []
  }
 ],
 "metadata": {
  "kernelspec": {
   "display_name": "Python 3",
   "language": "python",
   "name": "python3"
  },
  "language_info": {
   "codemirror_mode": {
    "name": "ipython",
    "version": 3
   },
   "file_extension": ".py",
   "mimetype": "text/x-python",
   "name": "python",
   "nbconvert_exporter": "python",
   "pygments_lexer": "ipython3",
   "version": "3.7.3"
  }
 },
 "nbformat": 4,
 "nbformat_minor": 2
}
